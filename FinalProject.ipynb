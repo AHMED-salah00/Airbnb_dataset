{
 "cells": [
  {
   "cell_type": "markdown",
   "id": "77f5bfd5",
   "metadata": {},
   "source": [
    "## Hello and welcome to this notebook 'Sprints_Airbnb':)\n"
   ]
  },
  {
   "cell_type": "markdown",
   "id": "9fcf3ed9",
   "metadata": {},
   "source": [
    "## In this notebook we have 3 Tasks 'Please click on the task you want'\n",
    "###  1- [Visualization](#visuals)\n",
    "###  2-[Time Series Analysis 'fbprophet'](#fb)\n",
    "###    [Time Series Analysis'ARIMA'](#arima)\n",
    "###  3-[Machine Learning 1 'KNN'](#knn)\n",
    "###    [Machine Learning 2 'Random Forest '](#random)\n",
    "\n"
   ]
  },
  {
   "cell_type": "markdown",
   "id": "3d47a76c",
   "metadata": {},
   "source": [
    "### The data file we are going to work with is :[train_users_2.xlsx]"
   ]
  },
  {
   "cell_type": "markdown",
   "id": "5e2d5cac",
   "metadata": {},
   "source": [
    "# Manipulting and Cleaning our data :"
   ]
  },
  {
   "cell_type": "code",
   "execution_count": 1,
   "id": "7974b70f",
   "metadata": {},
   "outputs": [
    {
     "name": "stderr",
     "output_type": "stream",
     "text": [
      "Importing plotly failed. Interactive plots will not work.\n"
     ]
    }
   ],
   "source": [
    "# Here we import the libraries we gonna use\n",
    "import pandas as pd\n",
    "import numpy as np\n",
    "import matplotlib.pyplot as plt\n",
    "%matplotlib inline\n",
    "import seaborn as sns\n",
    "from fbprophet import Prophet"
   ]
  },
  {
   "cell_type": "code",
   "execution_count": null,
   "id": "3288c108",
   "metadata": {},
   "outputs": [],
   "source": []
  },
  {
   "cell_type": "code",
   "execution_count": 2,
   "id": "654ca939",
   "metadata": {},
   "outputs": [
    {
     "data": {
      "text/html": [
       "<div>\n",
       "<style scoped>\n",
       "    .dataframe tbody tr th:only-of-type {\n",
       "        vertical-align: middle;\n",
       "    }\n",
       "\n",
       "    .dataframe tbody tr th {\n",
       "        vertical-align: top;\n",
       "    }\n",
       "\n",
       "    .dataframe thead th {\n",
       "        text-align: right;\n",
       "    }\n",
       "</style>\n",
       "<table border=\"1\" class=\"dataframe\">\n",
       "  <thead>\n",
       "    <tr style=\"text-align: right;\">\n",
       "      <th></th>\n",
       "      <th>id</th>\n",
       "      <th>date_account_created</th>\n",
       "      <th>timestamp_first_active</th>\n",
       "      <th>date_first_booking</th>\n",
       "      <th>gender</th>\n",
       "      <th>age</th>\n",
       "      <th>signup_method</th>\n",
       "      <th>signup_flow</th>\n",
       "      <th>language</th>\n",
       "      <th>affiliate_channel</th>\n",
       "      <th>affiliate_provider</th>\n",
       "      <th>first_affiliate_tracked</th>\n",
       "      <th>signup_app</th>\n",
       "      <th>first_device_type</th>\n",
       "      <th>first_browser</th>\n",
       "      <th>country_destination</th>\n",
       "    </tr>\n",
       "  </thead>\n",
       "  <tbody>\n",
       "    <tr>\n",
       "      <th>0</th>\n",
       "      <td>gxn3p5htnn</td>\n",
       "      <td>2010-06-28</td>\n",
       "      <td>20090319043255</td>\n",
       "      <td>NaN</td>\n",
       "      <td>-unknown-</td>\n",
       "      <td>NaN</td>\n",
       "      <td>facebook</td>\n",
       "      <td>0</td>\n",
       "      <td>en</td>\n",
       "      <td>direct</td>\n",
       "      <td>direct</td>\n",
       "      <td>untracked</td>\n",
       "      <td>Web</td>\n",
       "      <td>Mac Desktop</td>\n",
       "      <td>Chrome</td>\n",
       "      <td>NDF</td>\n",
       "    </tr>\n",
       "    <tr>\n",
       "      <th>1</th>\n",
       "      <td>820tgsjxq7</td>\n",
       "      <td>2011-05-25</td>\n",
       "      <td>20090523174809</td>\n",
       "      <td>NaN</td>\n",
       "      <td>MALE</td>\n",
       "      <td>38.0</td>\n",
       "      <td>facebook</td>\n",
       "      <td>0</td>\n",
       "      <td>en</td>\n",
       "      <td>seo</td>\n",
       "      <td>google</td>\n",
       "      <td>untracked</td>\n",
       "      <td>Web</td>\n",
       "      <td>Mac Desktop</td>\n",
       "      <td>Chrome</td>\n",
       "      <td>NDF</td>\n",
       "    </tr>\n",
       "    <tr>\n",
       "      <th>2</th>\n",
       "      <td>4ft3gnwmtx</td>\n",
       "      <td>2010-09-28</td>\n",
       "      <td>20090609231247</td>\n",
       "      <td>2010-08-02</td>\n",
       "      <td>FEMALE</td>\n",
       "      <td>56.0</td>\n",
       "      <td>basic</td>\n",
       "      <td>3</td>\n",
       "      <td>en</td>\n",
       "      <td>direct</td>\n",
       "      <td>direct</td>\n",
       "      <td>untracked</td>\n",
       "      <td>Web</td>\n",
       "      <td>Windows Desktop</td>\n",
       "      <td>IE</td>\n",
       "      <td>US</td>\n",
       "    </tr>\n",
       "    <tr>\n",
       "      <th>3</th>\n",
       "      <td>bjjt8pjhuk</td>\n",
       "      <td>2011-12-05</td>\n",
       "      <td>20091031060129</td>\n",
       "      <td>2012-09-08</td>\n",
       "      <td>FEMALE</td>\n",
       "      <td>42.0</td>\n",
       "      <td>facebook</td>\n",
       "      <td>0</td>\n",
       "      <td>en</td>\n",
       "      <td>direct</td>\n",
       "      <td>direct</td>\n",
       "      <td>untracked</td>\n",
       "      <td>Web</td>\n",
       "      <td>Mac Desktop</td>\n",
       "      <td>Firefox</td>\n",
       "      <td>other</td>\n",
       "    </tr>\n",
       "    <tr>\n",
       "      <th>4</th>\n",
       "      <td>87mebub9p4</td>\n",
       "      <td>2010-09-14</td>\n",
       "      <td>20091208061105</td>\n",
       "      <td>2010-02-18</td>\n",
       "      <td>-unknown-</td>\n",
       "      <td>41.0</td>\n",
       "      <td>basic</td>\n",
       "      <td>0</td>\n",
       "      <td>en</td>\n",
       "      <td>direct</td>\n",
       "      <td>direct</td>\n",
       "      <td>untracked</td>\n",
       "      <td>Web</td>\n",
       "      <td>Mac Desktop</td>\n",
       "      <td>Chrome</td>\n",
       "      <td>US</td>\n",
       "    </tr>\n",
       "  </tbody>\n",
       "</table>\n",
       "</div>"
      ],
      "text/plain": [
       "           id date_account_created  timestamp_first_active date_first_booking  \\\n",
       "0  gxn3p5htnn           2010-06-28          20090319043255                NaN   \n",
       "1  820tgsjxq7           2011-05-25          20090523174809                NaN   \n",
       "2  4ft3gnwmtx           2010-09-28          20090609231247         2010-08-02   \n",
       "3  bjjt8pjhuk           2011-12-05          20091031060129         2012-09-08   \n",
       "4  87mebub9p4           2010-09-14          20091208061105         2010-02-18   \n",
       "\n",
       "      gender   age signup_method  signup_flow language affiliate_channel  \\\n",
       "0  -unknown-   NaN      facebook            0       en            direct   \n",
       "1       MALE  38.0      facebook            0       en               seo   \n",
       "2     FEMALE  56.0         basic            3       en            direct   \n",
       "3     FEMALE  42.0      facebook            0       en            direct   \n",
       "4  -unknown-  41.0         basic            0       en            direct   \n",
       "\n",
       "  affiliate_provider first_affiliate_tracked signup_app first_device_type  \\\n",
       "0             direct               untracked        Web       Mac Desktop   \n",
       "1             google               untracked        Web       Mac Desktop   \n",
       "2             direct               untracked        Web   Windows Desktop   \n",
       "3             direct               untracked        Web       Mac Desktop   \n",
       "4             direct               untracked        Web       Mac Desktop   \n",
       "\n",
       "  first_browser country_destination  \n",
       "0        Chrome                 NDF  \n",
       "1        Chrome                 NDF  \n",
       "2            IE                  US  \n",
       "3       Firefox               other  \n",
       "4        Chrome                  US  "
      ]
     },
     "execution_count": 2,
     "metadata": {},
     "output_type": "execute_result"
    }
   ],
   "source": [
    "#here we import our data from this excel file : train_users2.csv\n",
    "df = pd.read_csv('train_users_2.csv')\n",
    "df.head(5)"
   ]
  },
  {
   "cell_type": "code",
   "execution_count": 3,
   "id": "12ea085a",
   "metadata": {},
   "outputs": [
    {
     "name": "stdout",
     "output_type": "stream",
     "text": [
      "<class 'pandas.core.frame.DataFrame'>\n",
      "RangeIndex: 213451 entries, 0 to 213450\n",
      "Data columns (total 16 columns):\n",
      " #   Column                   Non-Null Count   Dtype  \n",
      "---  ------                   --------------   -----  \n",
      " 0   id                       213451 non-null  object \n",
      " 1   date_account_created     213451 non-null  object \n",
      " 2   timestamp_first_active   213451 non-null  int64  \n",
      " 3   date_first_booking       88908 non-null   object \n",
      " 4   gender                   213451 non-null  object \n",
      " 5   age                      125461 non-null  float64\n",
      " 6   signup_method            213451 non-null  object \n",
      " 7   signup_flow              213451 non-null  int64  \n",
      " 8   language                 213451 non-null  object \n",
      " 9   affiliate_channel        213451 non-null  object \n",
      " 10  affiliate_provider       213451 non-null  object \n",
      " 11  first_affiliate_tracked  207386 non-null  object \n",
      " 12  signup_app               213451 non-null  object \n",
      " 13  first_device_type        213451 non-null  object \n",
      " 14  first_browser            213451 non-null  object \n",
      " 15  country_destination      213451 non-null  object \n",
      "dtypes: float64(1), int64(2), object(13)\n",
      "memory usage: 26.1+ MB\n"
     ]
    }
   ],
   "source": [
    "df.info()"
   ]
  },
  {
   "cell_type": "code",
   "execution_count": 4,
   "id": "5805391c",
   "metadata": {},
   "outputs": [],
   "source": [
    "#Here we drop the columns that we won't use in the analysis\n",
    "df.drop(columns = {'id','first_device_type','timestamp_first_active'},inplace = True)\n",
    "\n"
   ]
  },
  {
   "cell_type": "code",
   "execution_count": 5,
   "id": "438c0954",
   "metadata": {},
   "outputs": [],
   "source": [
    "df['first_affiliate_tracked'].fillna('untracked',inplace = True)"
   ]
  },
  {
   "cell_type": "code",
   "execution_count": 6,
   "id": "cd0f12fe",
   "metadata": {},
   "outputs": [],
   "source": [
    "df.date_account_created = df.date_account_created.astype('datetime64[ns]')"
   ]
  },
  {
   "cell_type": "code",
   "execution_count": 7,
   "id": "2cb6ed58",
   "metadata": {},
   "outputs": [
    {
     "name": "stderr",
     "output_type": "stream",
     "text": [
      "<ipython-input-7-24136042feed>:4: SettingWithCopyWarning: \n",
      "A value is trying to be set on a copy of a slice from a DataFrame\n",
      "\n",
      "See the caveats in the documentation: https://pandas.pydata.org/pandas-docs/stable/user_guide/indexing.html#returning-a-view-versus-a-copy\n",
      "  df['age'][i] = df['date_account_created'][i].year - df['age'][i]\n"
     ]
    }
   ],
   "source": [
    "#We calculate here the age for each person that entered his birthday instead of his age.\n",
    "for i in range(len(df['age'])):\n",
    "    if len(str(df.age[i]))>5: #here we convert the age from integer dtype to string to calculate the length of it.\n",
    "      df['age'][i] = df['date_account_created'][i].year - df['age'][i]\n",
    "    \n"
   ]
  },
  {
   "cell_type": "code",
   "execution_count": 8,
   "id": "c0b75078",
   "metadata": {},
   "outputs": [
    {
     "data": {
      "text/plain": [
       "87990"
      ]
     },
     "execution_count": 8,
     "metadata": {},
     "output_type": "execute_result"
    }
   ],
   "source": [
    "df.age.isnull().sum()"
   ]
  },
  {
   "cell_type": "code",
   "execution_count": 9,
   "id": "1bbeae05",
   "metadata": {},
   "outputs": [
    {
     "data": {
      "text/html": [
       "<div>\n",
       "<style scoped>\n",
       "    .dataframe tbody tr th:only-of-type {\n",
       "        vertical-align: middle;\n",
       "    }\n",
       "\n",
       "    .dataframe tbody tr th {\n",
       "        vertical-align: top;\n",
       "    }\n",
       "\n",
       "    .dataframe thead th {\n",
       "        text-align: right;\n",
       "    }\n",
       "</style>\n",
       "<table border=\"1\" class=\"dataframe\">\n",
       "  <thead>\n",
       "    <tr style=\"text-align: right;\">\n",
       "      <th></th>\n",
       "      <th>date_account_created</th>\n",
       "      <th>date_first_booking</th>\n",
       "      <th>gender</th>\n",
       "      <th>age</th>\n",
       "      <th>signup_method</th>\n",
       "      <th>signup_flow</th>\n",
       "      <th>language</th>\n",
       "      <th>affiliate_channel</th>\n",
       "      <th>affiliate_provider</th>\n",
       "      <th>first_affiliate_tracked</th>\n",
       "      <th>signup_app</th>\n",
       "      <th>first_browser</th>\n",
       "      <th>country_destination</th>\n",
       "    </tr>\n",
       "  </thead>\n",
       "  <tbody>\n",
       "    <tr>\n",
       "      <th>0</th>\n",
       "      <td>2010-06-28</td>\n",
       "      <td>NaN</td>\n",
       "      <td>-unknown-</td>\n",
       "      <td>NaN</td>\n",
       "      <td>facebook</td>\n",
       "      <td>0</td>\n",
       "      <td>en</td>\n",
       "      <td>direct</td>\n",
       "      <td>direct</td>\n",
       "      <td>untracked</td>\n",
       "      <td>Web</td>\n",
       "      <td>Chrome</td>\n",
       "      <td>NDF</td>\n",
       "    </tr>\n",
       "    <tr>\n",
       "      <th>1</th>\n",
       "      <td>2011-05-25</td>\n",
       "      <td>NaN</td>\n",
       "      <td>MALE</td>\n",
       "      <td>38.0</td>\n",
       "      <td>facebook</td>\n",
       "      <td>0</td>\n",
       "      <td>en</td>\n",
       "      <td>seo</td>\n",
       "      <td>google</td>\n",
       "      <td>untracked</td>\n",
       "      <td>Web</td>\n",
       "      <td>Chrome</td>\n",
       "      <td>NDF</td>\n",
       "    </tr>\n",
       "    <tr>\n",
       "      <th>2</th>\n",
       "      <td>2010-09-28</td>\n",
       "      <td>2010-08-02</td>\n",
       "      <td>FEMALE</td>\n",
       "      <td>56.0</td>\n",
       "      <td>basic</td>\n",
       "      <td>3</td>\n",
       "      <td>en</td>\n",
       "      <td>direct</td>\n",
       "      <td>direct</td>\n",
       "      <td>untracked</td>\n",
       "      <td>Web</td>\n",
       "      <td>IE</td>\n",
       "      <td>US</td>\n",
       "    </tr>\n",
       "    <tr>\n",
       "      <th>3</th>\n",
       "      <td>2011-12-05</td>\n",
       "      <td>2012-09-08</td>\n",
       "      <td>FEMALE</td>\n",
       "      <td>42.0</td>\n",
       "      <td>facebook</td>\n",
       "      <td>0</td>\n",
       "      <td>en</td>\n",
       "      <td>direct</td>\n",
       "      <td>direct</td>\n",
       "      <td>untracked</td>\n",
       "      <td>Web</td>\n",
       "      <td>Firefox</td>\n",
       "      <td>other</td>\n",
       "    </tr>\n",
       "    <tr>\n",
       "      <th>4</th>\n",
       "      <td>2010-09-14</td>\n",
       "      <td>2010-02-18</td>\n",
       "      <td>-unknown-</td>\n",
       "      <td>41.0</td>\n",
       "      <td>basic</td>\n",
       "      <td>0</td>\n",
       "      <td>en</td>\n",
       "      <td>direct</td>\n",
       "      <td>direct</td>\n",
       "      <td>untracked</td>\n",
       "      <td>Web</td>\n",
       "      <td>Chrome</td>\n",
       "      <td>US</td>\n",
       "    </tr>\n",
       "  </tbody>\n",
       "</table>\n",
       "</div>"
      ],
      "text/plain": [
       "  date_account_created date_first_booking     gender   age signup_method  \\\n",
       "0           2010-06-28                NaN  -unknown-   NaN      facebook   \n",
       "1           2011-05-25                NaN       MALE  38.0      facebook   \n",
       "2           2010-09-28         2010-08-02     FEMALE  56.0         basic   \n",
       "3           2011-12-05         2012-09-08     FEMALE  42.0      facebook   \n",
       "4           2010-09-14         2010-02-18  -unknown-  41.0         basic   \n",
       "\n",
       "   signup_flow language affiliate_channel affiliate_provider  \\\n",
       "0            0       en            direct             direct   \n",
       "1            0       en               seo             google   \n",
       "2            3       en            direct             direct   \n",
       "3            0       en            direct             direct   \n",
       "4            0       en            direct             direct   \n",
       "\n",
       "  first_affiliate_tracked signup_app first_browser country_destination  \n",
       "0               untracked        Web        Chrome                 NDF  \n",
       "1               untracked        Web        Chrome                 NDF  \n",
       "2               untracked        Web            IE                  US  \n",
       "3               untracked        Web       Firefox               other  \n",
       "4               untracked        Web        Chrome                  US  "
      ]
     },
     "execution_count": 9,
     "metadata": {},
     "output_type": "execute_result"
    }
   ],
   "source": [
    "df.head(5)"
   ]
  },
  {
   "cell_type": "code",
   "execution_count": 10,
   "id": "70cf319a",
   "metadata": {},
   "outputs": [],
   "source": [
    "#We replace here the negative values for the age with zeros\n",
    "for i in df.age:\n",
    "    if i <0:\n",
    "        i = 0\n",
    "        "
   ]
  },
  {
   "cell_type": "code",
   "execution_count": 11,
   "id": "d219a053",
   "metadata": {},
   "outputs": [
    {
     "data": {
      "text/html": [
       "<div>\n",
       "<style scoped>\n",
       "    .dataframe tbody tr th:only-of-type {\n",
       "        vertical-align: middle;\n",
       "    }\n",
       "\n",
       "    .dataframe tbody tr th {\n",
       "        vertical-align: top;\n",
       "    }\n",
       "\n",
       "    .dataframe thead th {\n",
       "        text-align: right;\n",
       "    }\n",
       "</style>\n",
       "<table border=\"1\" class=\"dataframe\">\n",
       "  <thead>\n",
       "    <tr style=\"text-align: right;\">\n",
       "      <th></th>\n",
       "      <th>date_account_created</th>\n",
       "      <th>date_first_booking</th>\n",
       "      <th>gender</th>\n",
       "      <th>age</th>\n",
       "      <th>signup_method</th>\n",
       "      <th>signup_flow</th>\n",
       "      <th>language</th>\n",
       "      <th>affiliate_channel</th>\n",
       "      <th>affiliate_provider</th>\n",
       "      <th>first_affiliate_tracked</th>\n",
       "      <th>signup_app</th>\n",
       "      <th>first_browser</th>\n",
       "      <th>country_destination</th>\n",
       "    </tr>\n",
       "  </thead>\n",
       "  <tbody>\n",
       "    <tr>\n",
       "      <th>1</th>\n",
       "      <td>2011-05-25</td>\n",
       "      <td>NaN</td>\n",
       "      <td>MALE</td>\n",
       "      <td>38.0</td>\n",
       "      <td>facebook</td>\n",
       "      <td>0</td>\n",
       "      <td>en</td>\n",
       "      <td>seo</td>\n",
       "      <td>google</td>\n",
       "      <td>untracked</td>\n",
       "      <td>Web</td>\n",
       "      <td>Chrome</td>\n",
       "      <td>NDF</td>\n",
       "    </tr>\n",
       "    <tr>\n",
       "      <th>2</th>\n",
       "      <td>2010-09-28</td>\n",
       "      <td>2010-08-02</td>\n",
       "      <td>FEMALE</td>\n",
       "      <td>56.0</td>\n",
       "      <td>basic</td>\n",
       "      <td>3</td>\n",
       "      <td>en</td>\n",
       "      <td>direct</td>\n",
       "      <td>direct</td>\n",
       "      <td>untracked</td>\n",
       "      <td>Web</td>\n",
       "      <td>IE</td>\n",
       "      <td>US</td>\n",
       "    </tr>\n",
       "    <tr>\n",
       "      <th>3</th>\n",
       "      <td>2011-12-05</td>\n",
       "      <td>2012-09-08</td>\n",
       "      <td>FEMALE</td>\n",
       "      <td>42.0</td>\n",
       "      <td>facebook</td>\n",
       "      <td>0</td>\n",
       "      <td>en</td>\n",
       "      <td>direct</td>\n",
       "      <td>direct</td>\n",
       "      <td>untracked</td>\n",
       "      <td>Web</td>\n",
       "      <td>Firefox</td>\n",
       "      <td>other</td>\n",
       "    </tr>\n",
       "    <tr>\n",
       "      <th>4</th>\n",
       "      <td>2010-09-14</td>\n",
       "      <td>2010-02-18</td>\n",
       "      <td>-unknown-</td>\n",
       "      <td>41.0</td>\n",
       "      <td>basic</td>\n",
       "      <td>0</td>\n",
       "      <td>en</td>\n",
       "      <td>direct</td>\n",
       "      <td>direct</td>\n",
       "      <td>untracked</td>\n",
       "      <td>Web</td>\n",
       "      <td>Chrome</td>\n",
       "      <td>US</td>\n",
       "    </tr>\n",
       "    <tr>\n",
       "      <th>6</th>\n",
       "      <td>2010-01-02</td>\n",
       "      <td>2010-01-05</td>\n",
       "      <td>FEMALE</td>\n",
       "      <td>46.0</td>\n",
       "      <td>basic</td>\n",
       "      <td>0</td>\n",
       "      <td>en</td>\n",
       "      <td>other</td>\n",
       "      <td>craigslist</td>\n",
       "      <td>untracked</td>\n",
       "      <td>Web</td>\n",
       "      <td>Safari</td>\n",
       "      <td>US</td>\n",
       "    </tr>\n",
       "    <tr>\n",
       "      <th>...</th>\n",
       "      <td>...</td>\n",
       "      <td>...</td>\n",
       "      <td>...</td>\n",
       "      <td>...</td>\n",
       "      <td>...</td>\n",
       "      <td>...</td>\n",
       "      <td>...</td>\n",
       "      <td>...</td>\n",
       "      <td>...</td>\n",
       "      <td>...</td>\n",
       "      <td>...</td>\n",
       "      <td>...</td>\n",
       "      <td>...</td>\n",
       "    </tr>\n",
       "    <tr>\n",
       "      <th>213441</th>\n",
       "      <td>2014-06-30</td>\n",
       "      <td>2014-08-13</td>\n",
       "      <td>FEMALE</td>\n",
       "      <td>34.0</td>\n",
       "      <td>basic</td>\n",
       "      <td>0</td>\n",
       "      <td>en</td>\n",
       "      <td>direct</td>\n",
       "      <td>direct</td>\n",
       "      <td>linked</td>\n",
       "      <td>Web</td>\n",
       "      <td>Chrome</td>\n",
       "      <td>ES</td>\n",
       "    </tr>\n",
       "    <tr>\n",
       "      <th>213443</th>\n",
       "      <td>2014-06-30</td>\n",
       "      <td>2014-07-13</td>\n",
       "      <td>FEMALE</td>\n",
       "      <td>36.0</td>\n",
       "      <td>basic</td>\n",
       "      <td>0</td>\n",
       "      <td>en</td>\n",
       "      <td>sem-brand</td>\n",
       "      <td>google</td>\n",
       "      <td>linked</td>\n",
       "      <td>Web</td>\n",
       "      <td>Safari</td>\n",
       "      <td>US</td>\n",
       "    </tr>\n",
       "    <tr>\n",
       "      <th>213445</th>\n",
       "      <td>2014-06-30</td>\n",
       "      <td>2014-07-02</td>\n",
       "      <td>FEMALE</td>\n",
       "      <td>23.0</td>\n",
       "      <td>basic</td>\n",
       "      <td>0</td>\n",
       "      <td>en</td>\n",
       "      <td>sem-brand</td>\n",
       "      <td>google</td>\n",
       "      <td>omg</td>\n",
       "      <td>Web</td>\n",
       "      <td>IE</td>\n",
       "      <td>US</td>\n",
       "    </tr>\n",
       "    <tr>\n",
       "      <th>213446</th>\n",
       "      <td>2014-06-30</td>\n",
       "      <td>NaN</td>\n",
       "      <td>MALE</td>\n",
       "      <td>32.0</td>\n",
       "      <td>basic</td>\n",
       "      <td>0</td>\n",
       "      <td>en</td>\n",
       "      <td>sem-brand</td>\n",
       "      <td>google</td>\n",
       "      <td>omg</td>\n",
       "      <td>Web</td>\n",
       "      <td>Safari</td>\n",
       "      <td>NDF</td>\n",
       "    </tr>\n",
       "    <tr>\n",
       "      <th>213448</th>\n",
       "      <td>2014-06-30</td>\n",
       "      <td>NaN</td>\n",
       "      <td>-unknown-</td>\n",
       "      <td>32.0</td>\n",
       "      <td>basic</td>\n",
       "      <td>0</td>\n",
       "      <td>en</td>\n",
       "      <td>direct</td>\n",
       "      <td>direct</td>\n",
       "      <td>untracked</td>\n",
       "      <td>Web</td>\n",
       "      <td>Firefox</td>\n",
       "      <td>NDF</td>\n",
       "    </tr>\n",
       "  </tbody>\n",
       "</table>\n",
       "<p>125461 rows × 13 columns</p>\n",
       "</div>"
      ],
      "text/plain": [
       "       date_account_created date_first_booking     gender   age signup_method  \\\n",
       "1                2011-05-25                NaN       MALE  38.0      facebook   \n",
       "2                2010-09-28         2010-08-02     FEMALE  56.0         basic   \n",
       "3                2011-12-05         2012-09-08     FEMALE  42.0      facebook   \n",
       "4                2010-09-14         2010-02-18  -unknown-  41.0         basic   \n",
       "6                2010-01-02         2010-01-05     FEMALE  46.0         basic   \n",
       "...                     ...                ...        ...   ...           ...   \n",
       "213441           2014-06-30         2014-08-13     FEMALE  34.0         basic   \n",
       "213443           2014-06-30         2014-07-13     FEMALE  36.0         basic   \n",
       "213445           2014-06-30         2014-07-02     FEMALE  23.0         basic   \n",
       "213446           2014-06-30                NaN       MALE  32.0         basic   \n",
       "213448           2014-06-30                NaN  -unknown-  32.0         basic   \n",
       "\n",
       "        signup_flow language affiliate_channel affiliate_provider  \\\n",
       "1                 0       en               seo             google   \n",
       "2                 3       en            direct             direct   \n",
       "3                 0       en            direct             direct   \n",
       "4                 0       en            direct             direct   \n",
       "6                 0       en             other         craigslist   \n",
       "...             ...      ...               ...                ...   \n",
       "213441            0       en            direct             direct   \n",
       "213443            0       en         sem-brand             google   \n",
       "213445            0       en         sem-brand             google   \n",
       "213446            0       en         sem-brand             google   \n",
       "213448            0       en            direct             direct   \n",
       "\n",
       "       first_affiliate_tracked signup_app first_browser country_destination  \n",
       "1                    untracked        Web        Chrome                 NDF  \n",
       "2                    untracked        Web            IE                  US  \n",
       "3                    untracked        Web       Firefox               other  \n",
       "4                    untracked        Web        Chrome                  US  \n",
       "6                    untracked        Web        Safari                  US  \n",
       "...                        ...        ...           ...                 ...  \n",
       "213441                  linked        Web        Chrome                  ES  \n",
       "213443                  linked        Web        Safari                  US  \n",
       "213445                     omg        Web            IE                  US  \n",
       "213446                     omg        Web        Safari                 NDF  \n",
       "213448               untracked        Web       Firefox                 NDF  \n",
       "\n",
       "[125461 rows x 13 columns]"
      ]
     },
     "execution_count": 11,
     "metadata": {},
     "output_type": "execute_result"
    }
   ],
   "source": [
    "df.dropna(subset = ['age'],inplace = True)\n",
    "df"
   ]
  },
  {
   "cell_type": "code",
   "execution_count": 12,
   "id": "355e3a01",
   "metadata": {
    "scrolled": true
   },
   "outputs": [
    {
     "name": "stdout",
     "output_type": "stream",
     "text": [
      "<class 'pandas.core.frame.DataFrame'>\n",
      "Int64Index: 125461 entries, 1 to 213448\n",
      "Data columns (total 13 columns):\n",
      " #   Column                   Non-Null Count   Dtype         \n",
      "---  ------                   --------------   -----         \n",
      " 0   date_account_created     125461 non-null  datetime64[ns]\n",
      " 1   date_first_booking       68532 non-null   object        \n",
      " 2   gender                   125461 non-null  object        \n",
      " 3   age                      125461 non-null  float64       \n",
      " 4   signup_method            125461 non-null  object        \n",
      " 5   signup_flow              125461 non-null  int64         \n",
      " 6   language                 125461 non-null  object        \n",
      " 7   affiliate_channel        125461 non-null  object        \n",
      " 8   affiliate_provider       125461 non-null  object        \n",
      " 9   first_affiliate_tracked  125461 non-null  object        \n",
      " 10  signup_app               125461 non-null  object        \n",
      " 11  first_browser            125461 non-null  object        \n",
      " 12  country_destination      125461 non-null  object        \n",
      "dtypes: datetime64[ns](1), float64(1), int64(1), object(10)\n",
      "memory usage: 13.4+ MB\n"
     ]
    }
   ],
   "source": [
    "df.info()"
   ]
  },
  {
   "cell_type": "markdown",
   "id": "81e1fee8",
   "metadata": {},
   "source": [
    "# 1-Data Visualization :"
   ]
  },
  {
   "cell_type": "markdown",
   "id": "1c20aba8",
   "metadata": {},
   "source": [
    "<a id='visuals'></a>"
   ]
  },
  {
   "cell_type": "code",
   "execution_count": 13,
   "id": "19454dcf",
   "metadata": {},
   "outputs": [
    {
     "data": {
      "image/png": "[encoded data removed]",
      "text/plain": [
       "<Figure size 1440x1440 with 4 Axes>"
      ]
     },
     "metadata": {
      "needs_background": "light"
     },
     "output_type": "display_data"
    }
   ],
   "source": [
    "df.hist(figsize = (20,20));"
   ]
  },
  {
   "cell_type": "code",
   "execution_count": 14,
   "id": "8fbc50bd",
   "metadata": {
    "scrolled": true
   },
   "outputs": [
    {
     "data": {
      "image/png": "[encoded data removed]",
      "text/plain": [
       "<Figure size 720x504 with 1 Axes>"
      ]
     },
     "metadata": {
      "needs_background": "light"
     },
     "output_type": "display_data"
    }
   ],
   "source": [
    "#Grouping by the date of First_booking ::)\n",
    "df['date_first_booking'].value_counts().plot(figsize = (10,7))\n",
    "plt.title('First Booking Date')\n",
    "plt.show()"
   ]
  },
  {
   "cell_type": "code",
   "execution_count": 80,
   "id": "f4832d30",
   "metadata": {
    "scrolled": false
   },
   "outputs": [
    {
     "data": {
      "image/png": "[encoded data removed]",
      "text/plain": [
       "<Figure size 720x504 with 1 Axes>"
      ]
     },
     "metadata": {
      "needs_background": "light"
     },
     "output_type": "display_data"
    }
   ],
   "source": [
    "df['country_destination'].value_counts().plot(kind = 'bar',color = 'green',figsize = (10,7))\n",
    "plt.title('Country destination',size = 15)\n",
    "plt.show()\n"
   ]
  },
  {
   "cell_type": "code",
   "execution_count": 16,
   "id": "74a186c3",
   "metadata": {},
   "outputs": [
    {
     "data": {
      "image/png": "[encoded data removed]",
      "text/plain": [
       "<Figure size 720x504 with 1 Axes>"
      ]
     },
     "metadata": {
      "needs_background": "light"
     },
     "output_type": "display_data"
    }
   ],
   "source": [
    "#Affiliate marketing is a process where publishers earn a commission by promoting a product or service made by another retailer\n",
    "#or advertiser.The  affiliate partner is rewarded a payout for providing a specific result to the retailer or advertiser.\n",
    "df['affiliate_channel'].value_counts().plot(kind = 'bar',color = 'red',figsize = (10,7))\n",
    "plt.xlabel('Channel',size = 13)\n",
    "plt.title('Affiliate Channel',size = 15)\n",
    "plt.show()"
   ]
  },
  {
   "cell_type": "code",
   "execution_count": 17,
   "id": "7c64793d",
   "metadata": {},
   "outputs": [
    {
     "data": {
      "image/png": "[encoded data removed]",
      "text/plain": [
       "<Figure size 720x504 with 1 Axes>"
      ]
     },
     "metadata": {
      "needs_background": "light"
     },
     "output_type": "display_data"
    }
   ],
   "source": [
    "# Affiliate provider :\n",
    "df['affiliate_provider'].value_counts().plot(kind = 'bar',color = 'blue',figsize = (10,7))\n",
    "plt.xlabel('Provider',size = 13)\n",
    "plt.title('Affiliate Provider',size = 15)\n",
    "plt.show()"
   ]
  },
  {
   "cell_type": "markdown",
   "id": "0135c47b",
   "metadata": {},
   "source": [
    "## As previous 'direct' is the most successful channel among all the affiliate channels. "
   ]
  },
  {
   "cell_type": "code",
   "execution_count": 18,
   "id": "9200f2e5",
   "metadata": {},
   "outputs": [
    {
     "data": {
      "image/png": "[encoded data removed]",
      "text/plain": [
       "<Figure size 720x504 with 1 Axes>"
      ]
     },
     "metadata": {
      "needs_background": "light"
     },
     "output_type": "display_data"
    }
   ],
   "source": [
    "df['signup_method'].value_counts().plot(kind = 'bar',alpha = 0.9,color = 'navy',figsize = (10,7))\n",
    "plt.title('Sign up method',size = 15)\n",
    "plt.show()"
   ]
  },
  {
   "cell_type": "markdown",
   "id": "90463b3b",
   "metadata": {},
   "source": [
    "## Here we notice that 'basic' is the most frequant sign up platform between the users."
   ]
  },
  {
   "cell_type": "code",
   "execution_count": 19,
   "id": "dc5facd2",
   "metadata": {
    "scrolled": false
   },
   "outputs": [
    {
     "data": {
      "image/png": "[encoded data removed]",
      "text/plain": [
       "<Figure size 720x504 with 1 Axes>"
      ]
     },
     "metadata": {
      "needs_background": "light"
     },
     "output_type": "display_data"
    }
   ],
   "source": [
    "df['gender'].value_counts().plot(kind = 'bar',alpha = 0.9,color = 'orange',figsize = (10,7))\n",
    "plt.title('Gender',size = 15)\n",
    "plt.show()"
   ]
  },
  {
   "cell_type": "code",
   "execution_count": 20,
   "id": "a5509c51",
   "metadata": {},
   "outputs": [
    {
     "data": {
      "image/png": "[encoded data removed]",
      "text/plain": [
       "<Figure size 720x360 with 1 Axes>"
      ]
     },
     "metadata": {
      "needs_background": "light"
     },
     "output_type": "display_data"
    }
   ],
   "source": [
    "#calculate the number of males and females\n",
    "women = sum(df['gender'] == 'FEMALE')\n",
    "men = sum(df['gender'] == 'MALE')\n",
    "\n",
    "#now we use df.loc to know the destination for each person and then .value_counts() to know the number of people for each destination :\n",
    "female_destinations = df.loc[df['gender'] == 'FEMALE', 'country_destination'].value_counts() \n",
    "male_destinations = df.loc[df['gender'] == 'MALE', 'country_destination'].value_counts() \n",
    "\n",
    "# Bar width\n",
    "width = 0.4\n",
    "\n",
    "male_destinations.plot(kind='bar', width=width, color='navy', position=0, label='Male', rot=0,figsize = (10,5))\n",
    "female_destinations.plot(kind='bar', width=width, color='coral', position=1, label='Female', rot=0)\n",
    "\n",
    "plt.legend()\n",
    "plt.xlabel('Destination Country')\n",
    "plt.ylabel('Percentage')\n",
    "\n",
    "sns.despine()\n",
    "plt.show()"
   ]
  },
  {
   "cell_type": "code",
   "execution_count": 21,
   "id": "72035184",
   "metadata": {
    "scrolled": false
   },
   "outputs": [
    {
     "data": {
      "image/png": "[encoded data removed]",
      "text/plain": [
       "<Figure size 1224x648 with 1 Axes>"
      ]
     },
     "metadata": {
      "needs_background": "light"
     },
     "output_type": "display_data"
    }
   ],
   "source": [
    "df['language'].value_counts()[:5].plot(kind = 'bar',alpha = 0.9,color = 'orange',figsize = (17,9))\n",
    "plt.title('Language',size = 15)\n",
    "plt.show()"
   ]
  },
  {
   "cell_type": "code",
   "execution_count": 22,
   "id": "415b0fed",
   "metadata": {},
   "outputs": [
    {
     "data": {
      "image/png": "[encoded data removed]",
      "text/plain": [
       "<Figure size 720x504 with 1 Axes>"
      ]
     },
     "metadata": {
      "needs_background": "light"
     },
     "output_type": "display_data"
    }
   ],
   "source": [
    "df['first_affiliate_tracked'].value_counts().plot(kind = 'bar',alpha = 0.9,color = 'red',figsize = (10,7))\n",
    "plt.title('first affiliate tracked',size = 15)\n",
    "plt.show()"
   ]
  },
  {
   "cell_type": "code",
   "execution_count": 23,
   "id": "7b9bee24",
   "metadata": {
    "scrolled": false
   },
   "outputs": [
    {
     "data": {
      "image/png": "[encoded data removed]",
      "text/plain": [
       "<Figure size 720x504 with 1 Axes>"
      ]
     },
     "metadata": {
      "needs_background": "light"
     },
     "output_type": "display_data"
    }
   ],
   "source": [
    "df['signup_app'].value_counts().plot(kind = 'bar',alpha = 0.9,color = 'purple',figsize = (10,7))\n",
    "plt.title('Signup app',size = 15)\n",
    "plt.show()"
   ]
  },
  {
   "cell_type": "code",
   "execution_count": 24,
   "id": "f7be65a1",
   "metadata": {},
   "outputs": [
    {
     "data": {
      "image/png": "[encoded data removed]",
      "text/plain": [
       "<Figure size 1440x504 with 1 Axes>"
      ]
     },
     "metadata": {
      "needs_background": "light"
     },
     "output_type": "display_data"
    }
   ],
   "source": [
    "df['first_browser'].value_counts()[:10].plot(kind = 'bar',alpha = 0.9,color = 'navy',figsize = (20,7))\n",
    "plt.title('first browser',size = 15)\n",
    "plt.show()"
   ]
  },
  {
   "cell_type": "code",
   "execution_count": null,
   "id": "182ea0c8",
   "metadata": {},
   "outputs": [],
   "source": []
  },
  {
   "cell_type": "markdown",
   "id": "9b3f48d7",
   "metadata": {},
   "source": [
    "## Bivariate plots :"
   ]
  },
  {
   "cell_type": "code",
   "execution_count": 25,
   "id": "f84966ab",
   "metadata": {},
   "outputs": [
    {
     "data": {
      "image/png": "[encoded data removed]",
      "text/plain": [
       "<Figure size 1080x1080 with 4 Axes>"
      ]
     },
     "metadata": {
      "needs_background": "light"
     },
     "output_type": "display_data"
    }
   ],
   "source": [
    "#Here : we provide a comparison between muliple parameters with age for each in scatter plots\n",
    "plt.figure(figsize = (15,15))\n",
    "\n",
    "plt.subplot(2,2,1)\n",
    "sns.boxplot(x = df['affiliate_channel'], y =df['age'],color=sns.color_palette()[7] );\n",
    "plt.xlabel('Affiliate channel')\n",
    "plt.ylabel('Age',size = 12)\n",
    "plt.xticks(rotation = 20)\n",
    "\n",
    "plt.subplot(2,2,2)\n",
    "sns.boxplot(x =df['signup_method'] , y =df['age'] ,color = 'red');\n",
    "plt.xlabel('Sgnup method')\n",
    "plt.ylabel('Age',size = 12)\n",
    "\n",
    "\n",
    "plt.subplot(2,2,3)\n",
    "sns.boxplot(x = df['country_destination'], y =df['age'] ,color=sns.color_palette()[6]);\n",
    "plt.xlabel('Country')\n",
    "plt.ylabel('Age',size = 12)\n",
    "\n",
    "plt.subplot(2,2,4)\n",
    "sns.boxplot(x = df['affiliate_provider'], y =df['age'] ,color=sns.color_palette()[1]);\n",
    "plt.xlabel('Provider')\n",
    "plt.ylabel('Age',size = 12)\n",
    "plt.xticks(rotation = 70)\n",
    "\n",
    "\n",
    "plt.show();"
   ]
  },
  {
   "cell_type": "markdown",
   "id": "0967e56d",
   "metadata": {},
   "source": [
    "<a id='fb'></a>"
   ]
  },
  {
   "cell_type": "markdown",
   "id": "59ae2dc7",
   "metadata": {},
   "source": [
    "# 2.Time Series Analysis :"
   ]
  },
  {
   "cell_type": "code",
   "execution_count": 26,
   "id": "d435df2c",
   "metadata": {
    "scrolled": true
   },
   "outputs": [
    {
     "data": {
      "text/html": [
       "<div>\n",
       "<style scoped>\n",
       "    .dataframe tbody tr th:only-of-type {\n",
       "        vertical-align: middle;\n",
       "    }\n",
       "\n",
       "    .dataframe tbody tr th {\n",
       "        vertical-align: top;\n",
       "    }\n",
       "\n",
       "    .dataframe thead th {\n",
       "        text-align: right;\n",
       "    }\n",
       "</style>\n",
       "<table border=\"1\" class=\"dataframe\">\n",
       "  <thead>\n",
       "    <tr style=\"text-align: right;\">\n",
       "      <th></th>\n",
       "      <th>date_account_created</th>\n",
       "      <th>date_first_booking</th>\n",
       "      <th>gender</th>\n",
       "      <th>age</th>\n",
       "      <th>signup_method</th>\n",
       "      <th>signup_flow</th>\n",
       "      <th>language</th>\n",
       "      <th>affiliate_channel</th>\n",
       "      <th>affiliate_provider</th>\n",
       "      <th>first_affiliate_tracked</th>\n",
       "      <th>signup_app</th>\n",
       "      <th>first_browser</th>\n",
       "      <th>country_destination</th>\n",
       "    </tr>\n",
       "  </thead>\n",
       "  <tbody>\n",
       "    <tr>\n",
       "      <th>1</th>\n",
       "      <td>2011-05-25</td>\n",
       "      <td>NaN</td>\n",
       "      <td>MALE</td>\n",
       "      <td>38.0</td>\n",
       "      <td>facebook</td>\n",
       "      <td>0</td>\n",
       "      <td>en</td>\n",
       "      <td>seo</td>\n",
       "      <td>google</td>\n",
       "      <td>untracked</td>\n",
       "      <td>Web</td>\n",
       "      <td>Chrome</td>\n",
       "      <td>NDF</td>\n",
       "    </tr>\n",
       "    <tr>\n",
       "      <th>2</th>\n",
       "      <td>2010-09-28</td>\n",
       "      <td>2010-08-02</td>\n",
       "      <td>FEMALE</td>\n",
       "      <td>56.0</td>\n",
       "      <td>basic</td>\n",
       "      <td>3</td>\n",
       "      <td>en</td>\n",
       "      <td>direct</td>\n",
       "      <td>direct</td>\n",
       "      <td>untracked</td>\n",
       "      <td>Web</td>\n",
       "      <td>IE</td>\n",
       "      <td>US</td>\n",
       "    </tr>\n",
       "    <tr>\n",
       "      <th>3</th>\n",
       "      <td>2011-12-05</td>\n",
       "      <td>2012-09-08</td>\n",
       "      <td>FEMALE</td>\n",
       "      <td>42.0</td>\n",
       "      <td>facebook</td>\n",
       "      <td>0</td>\n",
       "      <td>en</td>\n",
       "      <td>direct</td>\n",
       "      <td>direct</td>\n",
       "      <td>untracked</td>\n",
       "      <td>Web</td>\n",
       "      <td>Firefox</td>\n",
       "      <td>other</td>\n",
       "    </tr>\n",
       "    <tr>\n",
       "      <th>4</th>\n",
       "      <td>2010-09-14</td>\n",
       "      <td>2010-02-18</td>\n",
       "      <td>-unknown-</td>\n",
       "      <td>41.0</td>\n",
       "      <td>basic</td>\n",
       "      <td>0</td>\n",
       "      <td>en</td>\n",
       "      <td>direct</td>\n",
       "      <td>direct</td>\n",
       "      <td>untracked</td>\n",
       "      <td>Web</td>\n",
       "      <td>Chrome</td>\n",
       "      <td>US</td>\n",
       "    </tr>\n",
       "    <tr>\n",
       "      <th>6</th>\n",
       "      <td>2010-01-02</td>\n",
       "      <td>2010-01-05</td>\n",
       "      <td>FEMALE</td>\n",
       "      <td>46.0</td>\n",
       "      <td>basic</td>\n",
       "      <td>0</td>\n",
       "      <td>en</td>\n",
       "      <td>other</td>\n",
       "      <td>craigslist</td>\n",
       "      <td>untracked</td>\n",
       "      <td>Web</td>\n",
       "      <td>Safari</td>\n",
       "      <td>US</td>\n",
       "    </tr>\n",
       "  </tbody>\n",
       "</table>\n",
       "</div>"
      ],
      "text/plain": [
       "  date_account_created date_first_booking     gender   age signup_method  \\\n",
       "1           2011-05-25                NaN       MALE  38.0      facebook   \n",
       "2           2010-09-28         2010-08-02     FEMALE  56.0         basic   \n",
       "3           2011-12-05         2012-09-08     FEMALE  42.0      facebook   \n",
       "4           2010-09-14         2010-02-18  -unknown-  41.0         basic   \n",
       "6           2010-01-02         2010-01-05     FEMALE  46.0         basic   \n",
       "\n",
       "   signup_flow language affiliate_channel affiliate_provider  \\\n",
       "1            0       en               seo             google   \n",
       "2            3       en            direct             direct   \n",
       "3            0       en            direct             direct   \n",
       "4            0       en            direct             direct   \n",
       "6            0       en             other         craigslist   \n",
       "\n",
       "  first_affiliate_tracked signup_app first_browser country_destination  \n",
       "1               untracked        Web        Chrome                 NDF  \n",
       "2               untracked        Web            IE                  US  \n",
       "3               untracked        Web       Firefox               other  \n",
       "4               untracked        Web        Chrome                  US  \n",
       "6               untracked        Web        Safari                  US  "
      ]
     },
     "execution_count": 26,
     "metadata": {},
     "output_type": "execute_result"
    }
   ],
   "source": [
    "df.head()"
   ]
  },
  {
   "cell_type": "markdown",
   "id": "de0588af",
   "metadata": {},
   "source": [
    "## Predicting the number of clients  using the time series Anlaysis :"
   ]
  },
  {
   "cell_type": "code",
   "execution_count": 27,
   "id": "9d89bb43",
   "metadata": {
    "scrolled": true
   },
   "outputs": [
    {
     "data": {
      "text/html": [
       "<div>\n",
       "<style scoped>\n",
       "    .dataframe tbody tr th:only-of-type {\n",
       "        vertical-align: middle;\n",
       "    }\n",
       "\n",
       "    .dataframe tbody tr th {\n",
       "        vertical-align: top;\n",
       "    }\n",
       "\n",
       "    .dataframe thead th {\n",
       "        text-align: right;\n",
       "    }\n",
       "</style>\n",
       "<table border=\"1\" class=\"dataframe\">\n",
       "  <thead>\n",
       "    <tr style=\"text-align: right;\">\n",
       "      <th></th>\n",
       "      <th>ds</th>\n",
       "      <th>y</th>\n",
       "    </tr>\n",
       "  </thead>\n",
       "  <tbody>\n",
       "    <tr>\n",
       "      <th>0</th>\n",
       "      <td>2014-06-24</td>\n",
       "      <td>368</td>\n",
       "    </tr>\n",
       "    <tr>\n",
       "      <th>1</th>\n",
       "      <td>2014-06-25</td>\n",
       "      <td>359</td>\n",
       "    </tr>\n",
       "    <tr>\n",
       "      <th>2</th>\n",
       "      <td>2014-05-13</td>\n",
       "      <td>354</td>\n",
       "    </tr>\n",
       "    <tr>\n",
       "      <th>3</th>\n",
       "      <td>2014-05-20</td>\n",
       "      <td>344</td>\n",
       "    </tr>\n",
       "    <tr>\n",
       "      <th>4</th>\n",
       "      <td>2014-06-03</td>\n",
       "      <td>343</td>\n",
       "    </tr>\n",
       "  </tbody>\n",
       "</table>\n",
       "</div>"
      ],
      "text/plain": [
       "          ds    y\n",
       "0 2014-06-24  368\n",
       "1 2014-06-25  359\n",
       "2 2014-05-13  354\n",
       "3 2014-05-20  344\n",
       "4 2014-06-03  343"
      ]
     },
     "execution_count": 27,
     "metadata": {},
     "output_type": "execute_result"
    }
   ],
   "source": [
    "freq = df['date_account_created'].value_counts()\n",
    "ts = pd.DataFrame(data = freq)\n",
    "ts.reset_index(inplace = True)\n",
    "ts.columns = ['ds','y']\n",
    "ts.head()"
   ]
  },
  {
   "cell_type": "code",
   "execution_count": 28,
   "id": "f89c6243",
   "metadata": {},
   "outputs": [
    {
     "data": {
      "text/html": [
       "<div>\n",
       "<style scoped>\n",
       "    .dataframe tbody tr th:only-of-type {\n",
       "        vertical-align: middle;\n",
       "    }\n",
       "\n",
       "    .dataframe tbody tr th {\n",
       "        vertical-align: top;\n",
       "    }\n",
       "\n",
       "    .dataframe thead th {\n",
       "        text-align: right;\n",
       "    }\n",
       "</style>\n",
       "<table border=\"1\" class=\"dataframe\">\n",
       "  <thead>\n",
       "    <tr style=\"text-align: right;\">\n",
       "      <th></th>\n",
       "      <th>ds</th>\n",
       "      <th>y</th>\n",
       "    </tr>\n",
       "  </thead>\n",
       "  <tbody>\n",
       "    <tr>\n",
       "      <th>1617</th>\n",
       "      <td>2010-01-02</td>\n",
       "      <td>1</td>\n",
       "    </tr>\n",
       "    <tr>\n",
       "      <th>1600</th>\n",
       "      <td>2010-01-03</td>\n",
       "      <td>1</td>\n",
       "    </tr>\n",
       "    <tr>\n",
       "      <th>1498</th>\n",
       "      <td>2010-01-04</td>\n",
       "      <td>3</td>\n",
       "    </tr>\n",
       "    <tr>\n",
       "      <th>1533</th>\n",
       "      <td>2010-01-05</td>\n",
       "      <td>2</td>\n",
       "    </tr>\n",
       "    <tr>\n",
       "      <th>1499</th>\n",
       "      <td>2010-01-07</td>\n",
       "      <td>3</td>\n",
       "    </tr>\n",
       "    <tr>\n",
       "      <th>...</th>\n",
       "      <td>...</td>\n",
       "      <td>...</td>\n",
       "    </tr>\n",
       "    <tr>\n",
       "      <th>23</th>\n",
       "      <td>2014-06-26</td>\n",
       "      <td>299</td>\n",
       "    </tr>\n",
       "    <tr>\n",
       "      <th>14</th>\n",
       "      <td>2014-06-27</td>\n",
       "      <td>324</td>\n",
       "    </tr>\n",
       "    <tr>\n",
       "      <th>58</th>\n",
       "      <td>2014-06-28</td>\n",
       "      <td>256</td>\n",
       "    </tr>\n",
       "    <tr>\n",
       "      <th>50</th>\n",
       "      <td>2014-06-29</td>\n",
       "      <td>263</td>\n",
       "    </tr>\n",
       "    <tr>\n",
       "      <th>17</th>\n",
       "      <td>2014-06-30</td>\n",
       "      <td>314</td>\n",
       "    </tr>\n",
       "  </tbody>\n",
       "</table>\n",
       "<p>1623 rows × 2 columns</p>\n",
       "</div>"
      ],
      "text/plain": [
       "             ds    y\n",
       "1617 2010-01-02    1\n",
       "1600 2010-01-03    1\n",
       "1498 2010-01-04    3\n",
       "1533 2010-01-05    2\n",
       "1499 2010-01-07    3\n",
       "...         ...  ...\n",
       "23   2014-06-26  299\n",
       "14   2014-06-27  324\n",
       "58   2014-06-28  256\n",
       "50   2014-06-29  263\n",
       "17   2014-06-30  314\n",
       "\n",
       "[1623 rows x 2 columns]"
      ]
     },
     "execution_count": 28,
     "metadata": {},
     "output_type": "execute_result"
    }
   ],
   "source": [
    "ts.sort_values('ds')\n",
    "#we notice here that the last date is << '30-06-2014' >>"
   ]
  },
  {
   "cell_type": "code",
   "execution_count": 29,
   "id": "32857ec5",
   "metadata": {},
   "outputs": [
    {
     "data": {
      "image/png": "[encoded data removed]",
      "text/plain": [
       "<Figure size 1224x720 with 1 Axes>"
      ]
     },
     "metadata": {
      "needs_background": "light"
     },
     "output_type": "display_data"
    }
   ],
   "source": [
    "#Here, plotting our data over time \n",
    "ts.plot(kind = 'scatter',x = 'ds',y = 'y',figsize = (17,10))\n",
    "plt.title('Number of accounts created with date' , size = 15)\n",
    "plt.xlabel('Date')\n",
    "plt.ylabel('Num of accounts created')\n",
    "plt.show();"
   ]
  },
  {
   "cell_type": "code",
   "execution_count": 30,
   "id": "5b1d1340",
   "metadata": {},
   "outputs": [],
   "source": [
    "#Training our model:-\n",
    "m = Prophet(interval_width=0.95, daily_seasonality=False)\n",
    "model = m.fit(ts)"
   ]
  },
  {
   "cell_type": "markdown",
   "id": "8d80bdc5",
   "metadata": {},
   "source": [
    "# Forecasting :"
   ]
  },
  {
   "cell_type": "code",
   "execution_count": 31,
   "id": "65047825",
   "metadata": {
    "scrolled": false
   },
   "outputs": [
    {
     "data": {
      "text/html": [
       "<div>\n",
       "<style scoped>\n",
       "    .dataframe tbody tr th:only-of-type {\n",
       "        vertical-align: middle;\n",
       "    }\n",
       "\n",
       "    .dataframe tbody tr th {\n",
       "        vertical-align: top;\n",
       "    }\n",
       "\n",
       "    .dataframe thead th {\n",
       "        text-align: right;\n",
       "    }\n",
       "</style>\n",
       "<table border=\"1\" class=\"dataframe\">\n",
       "  <thead>\n",
       "    <tr style=\"text-align: right;\">\n",
       "      <th></th>\n",
       "      <th>ds</th>\n",
       "      <th>trend</th>\n",
       "      <th>yhat_lower</th>\n",
       "      <th>yhat_upper</th>\n",
       "      <th>trend_lower</th>\n",
       "      <th>trend_upper</th>\n",
       "      <th>additive_terms</th>\n",
       "      <th>additive_terms_lower</th>\n",
       "      <th>additive_terms_upper</th>\n",
       "      <th>weekly</th>\n",
       "      <th>weekly_lower</th>\n",
       "      <th>weekly_upper</th>\n",
       "      <th>yearly</th>\n",
       "      <th>yearly_lower</th>\n",
       "      <th>yearly_upper</th>\n",
       "      <th>multiplicative_terms</th>\n",
       "      <th>multiplicative_terms_lower</th>\n",
       "      <th>multiplicative_terms_upper</th>\n",
       "      <th>yhat</th>\n",
       "    </tr>\n",
       "  </thead>\n",
       "  <tbody>\n",
       "    <tr>\n",
       "      <th>0</th>\n",
       "      <td>2010-01-02</td>\n",
       "      <td>3.415354</td>\n",
       "      <td>-58.485254</td>\n",
       "      <td>7.763024</td>\n",
       "      <td>3.415354</td>\n",
       "      <td>3.415354</td>\n",
       "      <td>-30.335736</td>\n",
       "      <td>-30.335736</td>\n",
       "      <td>-30.335736</td>\n",
       "      <td>-15.497563</td>\n",
       "      <td>-15.497563</td>\n",
       "      <td>-15.497563</td>\n",
       "      <td>-14.838173</td>\n",
       "      <td>-14.838173</td>\n",
       "      <td>-14.838173</td>\n",
       "      <td>0.0</td>\n",
       "      <td>0.0</td>\n",
       "      <td>0.0</td>\n",
       "      <td>-26.920382</td>\n",
       "    </tr>\n",
       "    <tr>\n",
       "      <th>1</th>\n",
       "      <td>2010-01-03</td>\n",
       "      <td>3.399733</td>\n",
       "      <td>-61.198164</td>\n",
       "      <td>8.196808</td>\n",
       "      <td>3.399733</td>\n",
       "      <td>3.399733</td>\n",
       "      <td>-29.403434</td>\n",
       "      <td>-29.403434</td>\n",
       "      <td>-29.403434</td>\n",
       "      <td>-15.862419</td>\n",
       "      <td>-15.862419</td>\n",
       "      <td>-15.862419</td>\n",
       "      <td>-13.541014</td>\n",
       "      <td>-13.541014</td>\n",
       "      <td>-13.541014</td>\n",
       "      <td>0.0</td>\n",
       "      <td>0.0</td>\n",
       "      <td>0.0</td>\n",
       "      <td>-26.003701</td>\n",
       "    </tr>\n",
       "    <tr>\n",
       "      <th>2</th>\n",
       "      <td>2010-01-04</td>\n",
       "      <td>3.384111</td>\n",
       "      <td>-42.070926</td>\n",
       "      <td>33.578324</td>\n",
       "      <td>3.384111</td>\n",
       "      <td>3.384111</td>\n",
       "      <td>-6.527554</td>\n",
       "      <td>-6.527554</td>\n",
       "      <td>-6.527554</td>\n",
       "      <td>5.688411</td>\n",
       "      <td>5.688411</td>\n",
       "      <td>5.688411</td>\n",
       "      <td>-12.215964</td>\n",
       "      <td>-12.215964</td>\n",
       "      <td>-12.215964</td>\n",
       "      <td>0.0</td>\n",
       "      <td>0.0</td>\n",
       "      <td>0.0</td>\n",
       "      <td>-3.143442</td>\n",
       "    </tr>\n",
       "    <tr>\n",
       "      <th>3</th>\n",
       "      <td>2010-01-05</td>\n",
       "      <td>3.368490</td>\n",
       "      <td>-31.770924</td>\n",
       "      <td>39.820716</td>\n",
       "      <td>3.368490</td>\n",
       "      <td>3.368490</td>\n",
       "      <td>1.476108</td>\n",
       "      <td>1.476108</td>\n",
       "      <td>1.476108</td>\n",
       "      <td>12.358832</td>\n",
       "      <td>12.358832</td>\n",
       "      <td>12.358832</td>\n",
       "      <td>-10.882724</td>\n",
       "      <td>-10.882724</td>\n",
       "      <td>-10.882724</td>\n",
       "      <td>0.0</td>\n",
       "      <td>0.0</td>\n",
       "      <td>0.0</td>\n",
       "      <td>4.844598</td>\n",
       "    </tr>\n",
       "    <tr>\n",
       "      <th>4</th>\n",
       "      <td>2010-01-07</td>\n",
       "      <td>3.337247</td>\n",
       "      <td>-35.789127</td>\n",
       "      <td>35.579115</td>\n",
       "      <td>3.337247</td>\n",
       "      <td>3.337247</td>\n",
       "      <td>-3.027960</td>\n",
       "      <td>-3.027960</td>\n",
       "      <td>-3.027960</td>\n",
       "      <td>5.243066</td>\n",
       "      <td>5.243066</td>\n",
       "      <td>5.243066</td>\n",
       "      <td>-8.271026</td>\n",
       "      <td>-8.271026</td>\n",
       "      <td>-8.271026</td>\n",
       "      <td>0.0</td>\n",
       "      <td>0.0</td>\n",
       "      <td>0.0</td>\n",
       "      <td>0.309286</td>\n",
       "    </tr>\n",
       "  </tbody>\n",
       "</table>\n",
       "</div>"
      ],
      "text/plain": [
       "          ds     trend  yhat_lower  yhat_upper  trend_lower  trend_upper  \\\n",
       "0 2010-01-02  3.415354  -58.485254    7.763024     3.415354     3.415354   \n",
       "1 2010-01-03  3.399733  -61.198164    8.196808     3.399733     3.399733   \n",
       "2 2010-01-04  3.384111  -42.070926   33.578324     3.384111     3.384111   \n",
       "3 2010-01-05  3.368490  -31.770924   39.820716     3.368490     3.368490   \n",
       "4 2010-01-07  3.337247  -35.789127   35.579115     3.337247     3.337247   \n",
       "\n",
       "   additive_terms  additive_terms_lower  additive_terms_upper     weekly  \\\n",
       "0      -30.335736            -30.335736            -30.335736 -15.497563   \n",
       "1      -29.403434            -29.403434            -29.403434 -15.862419   \n",
       "2       -6.527554             -6.527554             -6.527554   5.688411   \n",
       "3        1.476108              1.476108              1.476108  12.358832   \n",
       "4       -3.027960             -3.027960             -3.027960   5.243066   \n",
       "\n",
       "   weekly_lower  weekly_upper     yearly  yearly_lower  yearly_upper  \\\n",
       "0    -15.497563    -15.497563 -14.838173    -14.838173    -14.838173   \n",
       "1    -15.862419    -15.862419 -13.541014    -13.541014    -13.541014   \n",
       "2      5.688411      5.688411 -12.215964    -12.215964    -12.215964   \n",
       "3     12.358832     12.358832 -10.882724    -10.882724    -10.882724   \n",
       "4      5.243066      5.243066  -8.271026     -8.271026     -8.271026   \n",
       "\n",
       "   multiplicative_terms  multiplicative_terms_lower  \\\n",
       "0                   0.0                         0.0   \n",
       "1                   0.0                         0.0   \n",
       "2                   0.0                         0.0   \n",
       "3                   0.0                         0.0   \n",
       "4                   0.0                         0.0   \n",
       "\n",
       "   multiplicative_terms_upper       yhat  \n",
       "0                         0.0 -26.920382  \n",
       "1                         0.0 -26.003701  \n",
       "2                         0.0  -3.143442  \n",
       "3                         0.0   4.844598  \n",
       "4                         0.0   0.309286  "
      ]
     },
     "execution_count": 31,
     "metadata": {},
     "output_type": "execute_result"
    }
   ],
   "source": [
    "future = m.make_future_dataframe(periods=100,freq='D') # here we want to predict 100 'D' for 'days' \n",
    "forecast = m.predict(future) #we then pass our future data to get the forecast\n",
    "forecast.head()"
   ]
  },
  {
   "cell_type": "code",
   "execution_count": 32,
   "id": "18b2519a",
   "metadata": {
    "scrolled": true
   },
   "outputs": [
    {
     "data": {
      "text/html": [
       "<div>\n",
       "<style scoped>\n",
       "    .dataframe tbody tr th:only-of-type {\n",
       "        vertical-align: middle;\n",
       "    }\n",
       "\n",
       "    .dataframe tbody tr th {\n",
       "        vertical-align: top;\n",
       "    }\n",
       "\n",
       "    .dataframe thead th {\n",
       "        text-align: right;\n",
       "    }\n",
       "</style>\n",
       "<table border=\"1\" class=\"dataframe\">\n",
       "  <thead>\n",
       "    <tr style=\"text-align: right;\">\n",
       "      <th></th>\n",
       "      <th>ds</th>\n",
       "      <th>trend</th>\n",
       "      <th>yhat_lower</th>\n",
       "      <th>yhat_upper</th>\n",
       "      <th>trend_lower</th>\n",
       "      <th>trend_upper</th>\n",
       "      <th>additive_terms</th>\n",
       "      <th>additive_terms_lower</th>\n",
       "      <th>additive_terms_upper</th>\n",
       "      <th>weekly</th>\n",
       "      <th>weekly_lower</th>\n",
       "      <th>weekly_upper</th>\n",
       "      <th>yearly</th>\n",
       "      <th>yearly_lower</th>\n",
       "      <th>yearly_upper</th>\n",
       "      <th>multiplicative_terms</th>\n",
       "      <th>multiplicative_terms_lower</th>\n",
       "      <th>multiplicative_terms_upper</th>\n",
       "      <th>yhat</th>\n",
       "    </tr>\n",
       "  </thead>\n",
       "  <tbody>\n",
       "    <tr>\n",
       "      <th>1718</th>\n",
       "      <td>2014-10-04</td>\n",
       "      <td>308.409168</td>\n",
       "      <td>256.284795</td>\n",
       "      <td>329.594371</td>\n",
       "      <td>303.902232</td>\n",
       "      <td>313.405388</td>\n",
       "      <td>-15.004900</td>\n",
       "      <td>-15.004900</td>\n",
       "      <td>-15.004900</td>\n",
       "      <td>-15.497563</td>\n",
       "      <td>-15.497563</td>\n",
       "      <td>-15.497563</td>\n",
       "      <td>0.492663</td>\n",
       "      <td>0.492663</td>\n",
       "      <td>0.492663</td>\n",
       "      <td>0.0</td>\n",
       "      <td>0.0</td>\n",
       "      <td>0.0</td>\n",
       "      <td>293.404267</td>\n",
       "    </tr>\n",
       "    <tr>\n",
       "      <th>1719</th>\n",
       "      <td>2014-10-05</td>\n",
       "      <td>308.832265</td>\n",
       "      <td>257.051770</td>\n",
       "      <td>329.893808</td>\n",
       "      <td>304.255853</td>\n",
       "      <td>313.941791</td>\n",
       "      <td>-16.554959</td>\n",
       "      <td>-16.554959</td>\n",
       "      <td>-16.554959</td>\n",
       "      <td>-15.862419</td>\n",
       "      <td>-15.862419</td>\n",
       "      <td>-15.862419</td>\n",
       "      <td>-0.692540</td>\n",
       "      <td>-0.692540</td>\n",
       "      <td>-0.692540</td>\n",
       "      <td>0.0</td>\n",
       "      <td>0.0</td>\n",
       "      <td>0.0</td>\n",
       "      <td>292.277306</td>\n",
       "    </tr>\n",
       "    <tr>\n",
       "      <th>1720</th>\n",
       "      <td>2014-10-06</td>\n",
       "      <td>309.255363</td>\n",
       "      <td>279.328045</td>\n",
       "      <td>347.107687</td>\n",
       "      <td>304.609474</td>\n",
       "      <td>314.397739</td>\n",
       "      <td>3.815481</td>\n",
       "      <td>3.815481</td>\n",
       "      <td>3.815481</td>\n",
       "      <td>5.688411</td>\n",
       "      <td>5.688411</td>\n",
       "      <td>5.688411</td>\n",
       "      <td>-1.872930</td>\n",
       "      <td>-1.872930</td>\n",
       "      <td>-1.872930</td>\n",
       "      <td>0.0</td>\n",
       "      <td>0.0</td>\n",
       "      <td>0.0</td>\n",
       "      <td>313.070843</td>\n",
       "    </tr>\n",
       "    <tr>\n",
       "      <th>1721</th>\n",
       "      <td>2014-10-07</td>\n",
       "      <td>309.678460</td>\n",
       "      <td>285.817237</td>\n",
       "      <td>355.036007</td>\n",
       "      <td>304.958191</td>\n",
       "      <td>314.872519</td>\n",
       "      <td>9.323766</td>\n",
       "      <td>9.323766</td>\n",
       "      <td>9.323766</td>\n",
       "      <td>12.358832</td>\n",
       "      <td>12.358832</td>\n",
       "      <td>12.358832</td>\n",
       "      <td>-3.035066</td>\n",
       "      <td>-3.035066</td>\n",
       "      <td>-3.035066</td>\n",
       "      <td>0.0</td>\n",
       "      <td>0.0</td>\n",
       "      <td>0.0</td>\n",
       "      <td>319.002226</td>\n",
       "    </tr>\n",
       "    <tr>\n",
       "      <th>1722</th>\n",
       "      <td>2014-10-08</td>\n",
       "      <td>310.101558</td>\n",
       "      <td>279.346268</td>\n",
       "      <td>349.750214</td>\n",
       "      <td>305.287363</td>\n",
       "      <td>315.361179</td>\n",
       "      <td>5.636676</td>\n",
       "      <td>5.636676</td>\n",
       "      <td>5.636676</td>\n",
       "      <td>9.802789</td>\n",
       "      <td>9.802789</td>\n",
       "      <td>9.802789</td>\n",
       "      <td>-4.166112</td>\n",
       "      <td>-4.166112</td>\n",
       "      <td>-4.166112</td>\n",
       "      <td>0.0</td>\n",
       "      <td>0.0</td>\n",
       "      <td>0.0</td>\n",
       "      <td>315.738234</td>\n",
       "    </tr>\n",
       "  </tbody>\n",
       "</table>\n",
       "</div>"
      ],
      "text/plain": [
       "             ds       trend  yhat_lower  yhat_upper  trend_lower  trend_upper  \\\n",
       "1718 2014-10-04  308.409168  256.284795  329.594371   303.902232   313.405388   \n",
       "1719 2014-10-05  308.832265  257.051770  329.893808   304.255853   313.941791   \n",
       "1720 2014-10-06  309.255363  279.328045  347.107687   304.609474   314.397739   \n",
       "1721 2014-10-07  309.678460  285.817237  355.036007   304.958191   314.872519   \n",
       "1722 2014-10-08  310.101558  279.346268  349.750214   305.287363   315.361179   \n",
       "\n",
       "      additive_terms  additive_terms_lower  additive_terms_upper     weekly  \\\n",
       "1718      -15.004900            -15.004900            -15.004900 -15.497563   \n",
       "1719      -16.554959            -16.554959            -16.554959 -15.862419   \n",
       "1720        3.815481              3.815481              3.815481   5.688411   \n",
       "1721        9.323766              9.323766              9.323766  12.358832   \n",
       "1722        5.636676              5.636676              5.636676   9.802789   \n",
       "\n",
       "      weekly_lower  weekly_upper    yearly  yearly_lower  yearly_upper  \\\n",
       "1718    -15.497563    -15.497563  0.492663      0.492663      0.492663   \n",
       "1719    -15.862419    -15.862419 -0.692540     -0.692540     -0.692540   \n",
       "1720      5.688411      5.688411 -1.872930     -1.872930     -1.872930   \n",
       "1721     12.358832     12.358832 -3.035066     -3.035066     -3.035066   \n",
       "1722      9.802789      9.802789 -4.166112     -4.166112     -4.166112   \n",
       "\n",
       "      multiplicative_terms  multiplicative_terms_lower  \\\n",
       "1718                   0.0                         0.0   \n",
       "1719                   0.0                         0.0   \n",
       "1720                   0.0                         0.0   \n",
       "1721                   0.0                         0.0   \n",
       "1722                   0.0                         0.0   \n",
       "\n",
       "      multiplicative_terms_upper        yhat  \n",
       "1718                         0.0  293.404267  \n",
       "1719                         0.0  292.277306  \n",
       "1720                         0.0  313.070843  \n",
       "1721                         0.0  319.002226  \n",
       "1722                         0.0  315.738234  "
      ]
     },
     "execution_count": 32,
     "metadata": {},
     "output_type": "execute_result"
    }
   ],
   "source": [
    "forecast.tail()"
   ]
  },
  {
   "cell_type": "code",
   "execution_count": 33,
   "id": "9ebd9827",
   "metadata": {},
   "outputs": [
    {
     "data": {
      "text/html": [
       "<div>\n",
       "<style scoped>\n",
       "    .dataframe tbody tr th:only-of-type {\n",
       "        vertical-align: middle;\n",
       "    }\n",
       "\n",
       "    .dataframe tbody tr th {\n",
       "        vertical-align: top;\n",
       "    }\n",
       "\n",
       "    .dataframe thead th {\n",
       "        text-align: right;\n",
       "    }\n",
       "</style>\n",
       "<table border=\"1\" class=\"dataframe\">\n",
       "  <thead>\n",
       "    <tr style=\"text-align: right;\">\n",
       "      <th></th>\n",
       "      <th>ds</th>\n",
       "      <th>yhat</th>\n",
       "    </tr>\n",
       "  </thead>\n",
       "  <tbody>\n",
       "    <tr>\n",
       "      <th>0</th>\n",
       "      <td>2010-01-02</td>\n",
       "      <td>-26.920382</td>\n",
       "    </tr>\n",
       "    <tr>\n",
       "      <th>1</th>\n",
       "      <td>2010-01-03</td>\n",
       "      <td>-26.003701</td>\n",
       "    </tr>\n",
       "    <tr>\n",
       "      <th>2</th>\n",
       "      <td>2010-01-04</td>\n",
       "      <td>-3.143442</td>\n",
       "    </tr>\n",
       "    <tr>\n",
       "      <th>3</th>\n",
       "      <td>2010-01-05</td>\n",
       "      <td>4.844598</td>\n",
       "    </tr>\n",
       "    <tr>\n",
       "      <th>4</th>\n",
       "      <td>2010-01-07</td>\n",
       "      <td>0.309286</td>\n",
       "    </tr>\n",
       "    <tr>\n",
       "      <th>...</th>\n",
       "      <td>...</td>\n",
       "      <td>...</td>\n",
       "    </tr>\n",
       "    <tr>\n",
       "      <th>1718</th>\n",
       "      <td>2014-10-04</td>\n",
       "      <td>293.404267</td>\n",
       "    </tr>\n",
       "    <tr>\n",
       "      <th>1719</th>\n",
       "      <td>2014-10-05</td>\n",
       "      <td>292.277306</td>\n",
       "    </tr>\n",
       "    <tr>\n",
       "      <th>1720</th>\n",
       "      <td>2014-10-06</td>\n",
       "      <td>313.070843</td>\n",
       "    </tr>\n",
       "    <tr>\n",
       "      <th>1721</th>\n",
       "      <td>2014-10-07</td>\n",
       "      <td>319.002226</td>\n",
       "    </tr>\n",
       "    <tr>\n",
       "      <th>1722</th>\n",
       "      <td>2014-10-08</td>\n",
       "      <td>315.738234</td>\n",
       "    </tr>\n",
       "  </tbody>\n",
       "</table>\n",
       "<p>1723 rows × 2 columns</p>\n",
       "</div>"
      ],
      "text/plain": [
       "             ds        yhat\n",
       "0    2010-01-02  -26.920382\n",
       "1    2010-01-03  -26.003701\n",
       "2    2010-01-04   -3.143442\n",
       "3    2010-01-05    4.844598\n",
       "4    2010-01-07    0.309286\n",
       "...         ...         ...\n",
       "1718 2014-10-04  293.404267\n",
       "1719 2014-10-05  292.277306\n",
       "1720 2014-10-06  313.070843\n",
       "1721 2014-10-07  319.002226\n",
       "1722 2014-10-08  315.738234\n",
       "\n",
       "[1723 rows x 2 columns]"
      ]
     },
     "execution_count": 33,
     "metadata": {},
     "output_type": "execute_result"
    }
   ],
   "source": [
    "df2 = forecast[['ds','yhat']]\n",
    "df2"
   ]
  },
  {
   "cell_type": "code",
   "execution_count": 34,
   "id": "39994024",
   "metadata": {
    "scrolled": false
   },
   "outputs": [
    {
     "data": {
      "image/png": "[encoded data removed]",
      "text/plain": [
       "<Figure size 720x432 with 1 Axes>"
      ]
     },
     "metadata": {
      "needs_background": "light"
     },
     "output_type": "display_data"
    }
   ],
   "source": [
    "# Part of the predicted number of people with dates :\n",
    "plt.figure(figsize = (10,6))\n",
    "df2 = forecast[['ds','yhat']].loc[1620:1670]\n",
    "sns.lineplot(x = df2.ds, y = df2.yhat); #A sample of the predicted number of customers\n",
    "plt.xlabel('Date')\n",
    "plt.ylabel('Number of Accounts created');"
   ]
  },
  {
   "cell_type": "code",
   "execution_count": 35,
   "id": "74531b7b",
   "metadata": {},
   "outputs": [
    {
     "data": {
      "text/html": [
       "<div>\n",
       "<style scoped>\n",
       "    .dataframe tbody tr th:only-of-type {\n",
       "        vertical-align: middle;\n",
       "    }\n",
       "\n",
       "    .dataframe tbody tr th {\n",
       "        vertical-align: top;\n",
       "    }\n",
       "\n",
       "    .dataframe thead th {\n",
       "        text-align: right;\n",
       "    }\n",
       "</style>\n",
       "<table border=\"1\" class=\"dataframe\">\n",
       "  <thead>\n",
       "    <tr style=\"text-align: right;\">\n",
       "      <th></th>\n",
       "      <th>ds</th>\n",
       "      <th>yhat</th>\n",
       "    </tr>\n",
       "  </thead>\n",
       "  <tbody>\n",
       "    <tr>\n",
       "      <th>0</th>\n",
       "      <td>2010-01-02</td>\n",
       "      <td>-26.920382</td>\n",
       "    </tr>\n",
       "    <tr>\n",
       "      <th>1</th>\n",
       "      <td>2010-01-03</td>\n",
       "      <td>-26.003701</td>\n",
       "    </tr>\n",
       "    <tr>\n",
       "      <th>2</th>\n",
       "      <td>2010-01-04</td>\n",
       "      <td>-3.143442</td>\n",
       "    </tr>\n",
       "    <tr>\n",
       "      <th>3</th>\n",
       "      <td>2010-01-05</td>\n",
       "      <td>4.844598</td>\n",
       "    </tr>\n",
       "    <tr>\n",
       "      <th>4</th>\n",
       "      <td>2010-01-07</td>\n",
       "      <td>0.309286</td>\n",
       "    </tr>\n",
       "    <tr>\n",
       "      <th>...</th>\n",
       "      <td>...</td>\n",
       "      <td>...</td>\n",
       "    </tr>\n",
       "    <tr>\n",
       "      <th>1718</th>\n",
       "      <td>2014-10-04</td>\n",
       "      <td>293.404267</td>\n",
       "    </tr>\n",
       "    <tr>\n",
       "      <th>1719</th>\n",
       "      <td>2014-10-05</td>\n",
       "      <td>292.277306</td>\n",
       "    </tr>\n",
       "    <tr>\n",
       "      <th>1720</th>\n",
       "      <td>2014-10-06</td>\n",
       "      <td>313.070843</td>\n",
       "    </tr>\n",
       "    <tr>\n",
       "      <th>1721</th>\n",
       "      <td>2014-10-07</td>\n",
       "      <td>319.002226</td>\n",
       "    </tr>\n",
       "    <tr>\n",
       "      <th>1722</th>\n",
       "      <td>2014-10-08</td>\n",
       "      <td>315.738234</td>\n",
       "    </tr>\n",
       "  </tbody>\n",
       "</table>\n",
       "<p>1723 rows × 2 columns</p>\n",
       "</div>"
      ],
      "text/plain": [
       "             ds        yhat\n",
       "0    2010-01-02  -26.920382\n",
       "1    2010-01-03  -26.003701\n",
       "2    2010-01-04   -3.143442\n",
       "3    2010-01-05    4.844598\n",
       "4    2010-01-07    0.309286\n",
       "...         ...         ...\n",
       "1718 2014-10-04  293.404267\n",
       "1719 2014-10-05  292.277306\n",
       "1720 2014-10-06  313.070843\n",
       "1721 2014-10-07  319.002226\n",
       "1722 2014-10-08  315.738234\n",
       "\n",
       "[1723 rows x 2 columns]"
      ]
     },
     "execution_count": 35,
     "metadata": {},
     "output_type": "execute_result"
    }
   ],
   "source": [
    "forecast[['ds','yhat']]"
   ]
  },
  {
   "cell_type": "code",
   "execution_count": 36,
   "id": "eed55f91",
   "metadata": {
    "scrolled": false
   },
   "outputs": [
    {
     "data": {
      "image/png": "[encoded data removed]",
      "text/plain": [
       "<Figure size 720x432 with 1 Axes>"
      ]
     },
     "metadata": {},
     "output_type": "display_data"
    }
   ],
   "source": [
    "plot1 = m.plot(forecast)\n",
    "plt.xlabel('Year',size = 15)\n",
    "plt.ylabel('Num of Accounts created', size = 15);"
   ]
  },
  {
   "cell_type": "markdown",
   "id": "d992a714",
   "metadata": {},
   "source": [
    "## Decompositions :-"
   ]
  },
  {
   "cell_type": "code",
   "execution_count": 37,
   "id": "be57c416",
   "metadata": {
    "scrolled": false
   },
   "outputs": [
    {
     "data": {
      "image/png": "[encoded data removed]",
      "text/plain": [
       "<Figure size 648x648 with 3 Axes>"
      ]
     },
     "metadata": {},
     "output_type": "display_data"
    }
   ],
   "source": [
    "plt2 = m.plot_components(forecast)"
   ]
  },
  {
   "cell_type": "markdown",
   "id": "837f5c34",
   "metadata": {},
   "source": [
    "<a id='arima'></a>"
   ]
  },
  {
   "cell_type": "markdown",
   "id": "7655d8eb",
   "metadata": {},
   "source": [
    "## Here is another solution using ARIMA Model:"
   ]
  },
  {
   "cell_type": "code",
   "execution_count": 38,
   "id": "c81498f1",
   "metadata": {},
   "outputs": [
    {
     "name": "stdout",
     "output_type": "stream",
     "text": [
      "Shape of data (213451, 1)\n"
     ]
    },
    {
     "data": {
      "text/html": [
       "<div>\n",
       "<style scoped>\n",
       "    .dataframe tbody tr th:only-of-type {\n",
       "        vertical-align: middle;\n",
       "    }\n",
       "\n",
       "    .dataframe tbody tr th {\n",
       "        vertical-align: top;\n",
       "    }\n",
       "\n",
       "    .dataframe thead th {\n",
       "        text-align: right;\n",
       "    }\n",
       "</style>\n",
       "<table border=\"1\" class=\"dataframe\">\n",
       "  <thead>\n",
       "    <tr style=\"text-align: right;\">\n",
       "      <th></th>\n",
       "      <th>date_account_created</th>\n",
       "    </tr>\n",
       "  </thead>\n",
       "  <tbody>\n",
       "    <tr>\n",
       "      <th>0</th>\n",
       "      <td>2010-06-28</td>\n",
       "    </tr>\n",
       "    <tr>\n",
       "      <th>1</th>\n",
       "      <td>2011-05-25</td>\n",
       "    </tr>\n",
       "    <tr>\n",
       "      <th>2</th>\n",
       "      <td>2010-09-28</td>\n",
       "    </tr>\n",
       "    <tr>\n",
       "      <th>3</th>\n",
       "      <td>2011-12-05</td>\n",
       "    </tr>\n",
       "    <tr>\n",
       "      <th>4</th>\n",
       "      <td>2010-09-14</td>\n",
       "    </tr>\n",
       "  </tbody>\n",
       "</table>\n",
       "</div>"
      ],
      "text/plain": [
       "  date_account_created\n",
       "0           2010-06-28\n",
       "1           2011-05-25\n",
       "2           2010-09-28\n",
       "3           2011-12-05\n",
       "4           2010-09-14"
      ]
     },
     "execution_count": 38,
     "metadata": {},
     "output_type": "execute_result"
    }
   ],
   "source": [
    "df0 = pd.read_csv('train_users_2.csv',usecols=[\"date_account_created\"],parse_dates=['date_account_created'])\n",
    "df0 = df0.dropna()\n",
    "print('Shape of data', df0.shape)\n",
    "df0.head()"
   ]
  },
  {
   "cell_type": "code",
   "execution_count": 39,
   "id": "b6261861",
   "metadata": {},
   "outputs": [],
   "source": [
    "df0['freq'] = df0.groupby('date_account_created')['date_account_created'].transform('count')\n",
    "\n",
    "df0 = df0.drop_duplicates(subset=['date_account_created'], keep='first')\n",
    "\n",
    "from statsmodels.tsa.stattools import adfuller\n",
    "\n",
    "def adf_test(dataset):\n",
    "  dftest = adfuller(dataset, autolag = 'AIC')\n",
    "  print(\"1. ADF : \",dftest[0])\n",
    "  print(\"2. P-Value : \", dftest[1])\n",
    "  print(\"3. Num Of Lags : \", dftest[2])\n",
    "  print(\"4. Num Of Observations Used For ADF Regression and Critical Values Calculation :\", dftest[3])\n",
    "  print(\"5. Critical Values :\")\n",
    "  for key, val in dftest[4].items():\n",
    "      print(\"\\t\",key, \": \", val)\n",
    "\n"
   ]
  },
  {
   "cell_type": "code",
   "execution_count": 40,
   "id": "2486137e",
   "metadata": {
    "scrolled": true
   },
   "outputs": [
    {
     "name": "stdout",
     "output_type": "stream",
     "text": [
      "1. ADF :  1.8563998343016113\n",
      "2. P-Value :  0.9984545548370587\n",
      "3. Num Of Lags :  21\n",
      "4. Num Of Observations Used For ADF Regression and Critical Values Calculation : 1612\n",
      "5. Critical Values :\n",
      "\t 1% :  -3.4344131164513874\n",
      "\t 5% :  -2.8633346290071326\n",
      "\t 10% :  -2.5677254234217317\n"
     ]
    }
   ],
   "source": [
    "adf_test(df0['freq'])"
   ]
  },
  {
   "cell_type": "code",
   "execution_count": 41,
   "id": "913f30f2",
   "metadata": {},
   "outputs": [],
   "source": [
    "from pmdarima import auto_arima\n",
    "# Ignore harmless warnings\n",
    "import warnings\n",
    "warnings.filterwarnings(\"ignore\")"
   ]
  },
  {
   "cell_type": "code",
   "execution_count": 42,
   "id": "af0338f4",
   "metadata": {},
   "outputs": [
    {
     "name": "stdout",
     "output_type": "stream",
     "text": [
      "Performing stepwise search to minimize aic\n",
      " ARIMA(2,1,2)(0,0,0)[0] intercept   : AIC=18059.909, Time=2.02 sec\n",
      " ARIMA(0,1,0)(0,0,0)[0] intercept   : AIC=18941.268, Time=0.03 sec\n",
      " ARIMA(1,1,0)(0,0,0)[0] intercept   : AIC=18645.691, Time=0.09 sec\n",
      " ARIMA(0,1,1)(0,0,0)[0] intercept   : AIC=18091.218, Time=0.26 sec\n",
      " ARIMA(0,1,0)(0,0,0)[0]             : AIC=18939.300, Time=0.03 sec\n",
      " ARIMA(1,1,2)(0,0,0)[0] intercept   : AIC=18073.343, Time=0.98 sec\n",
      " ARIMA(2,1,1)(0,0,0)[0] intercept   : AIC=18069.827, Time=1.28 sec\n",
      " ARIMA(3,1,2)(0,0,0)[0] intercept   : AIC=18072.393, Time=2.47 sec\n",
      " ARIMA(2,1,3)(0,0,0)[0] intercept   : AIC=18051.344, Time=3.74 sec\n",
      " ARIMA(1,1,3)(0,0,0)[0] intercept   : AIC=18063.371, Time=1.36 sec\n",
      " ARIMA(3,1,3)(0,0,0)[0] intercept   : AIC=18080.182, Time=3.83 sec\n",
      " ARIMA(2,1,4)(0,0,0)[0] intercept   : AIC=18051.155, Time=3.20 sec\n",
      " ARIMA(1,1,4)(0,0,0)[0] intercept   : AIC=18073.727, Time=1.63 sec\n",
      " ARIMA(3,1,4)(0,0,0)[0] intercept   : AIC=18066.782, Time=4.17 sec\n",
      " ARIMA(2,1,5)(0,0,0)[0] intercept   : AIC=18052.634, Time=4.37 sec\n",
      " ARIMA(1,1,5)(0,0,0)[0] intercept   : AIC=18059.104, Time=2.38 sec\n",
      " ARIMA(3,1,5)(0,0,0)[0] intercept   : AIC=18054.146, Time=4.12 sec\n",
      " ARIMA(2,1,4)(0,0,0)[0]             : AIC=18057.689, Time=1.92 sec\n",
      "\n",
      "Best model:  ARIMA(2,1,4)(0,0,0)[0] intercept\n",
      "Total fit time: 37.910 seconds\n"
     ]
    },
    {
     "data": {
      "text/html": [
       "<table class=\"simpletable\">\n",
       "<caption>SARIMAX Results</caption>\n",
       "<tr>\n",
       "  <th>Dep. Variable:</th>           <td>y</td>        <th>  No. Observations:  </th>   <td>1634</td>   \n",
       "</tr>\n",
       "<tr>\n",
       "  <th>Model:</th>           <td>SARIMAX(2, 1, 4)</td> <th>  Log Likelihood     </th> <td>-9017.577</td>\n",
       "</tr>\n",
       "<tr>\n",
       "  <th>Date:</th>            <td>Sat, 10 Sep 2022</td> <th>  AIC                </th> <td>18051.155</td>\n",
       "</tr>\n",
       "<tr>\n",
       "  <th>Time:</th>                <td>17:14:38</td>     <th>  BIC                </th> <td>18094.340</td>\n",
       "</tr>\n",
       "<tr>\n",
       "  <th>Sample:</th>                  <td>0</td>        <th>  HQIC               </th> <td>18067.175</td>\n",
       "</tr>\n",
       "<tr>\n",
       "  <th></th>                      <td> - 1634</td>     <th>                     </th>     <td> </td>    \n",
       "</tr>\n",
       "<tr>\n",
       "  <th>Covariance Type:</th>        <td>opg</td>       <th>                     </th>     <td> </td>    \n",
       "</tr>\n",
       "</table>\n",
       "<table class=\"simpletable\">\n",
       "<tr>\n",
       "      <td></td>         <th>coef</th>     <th>std err</th>      <th>z</th>      <th>P>|z|</th>  <th>[0.025</th>    <th>0.975]</th>  \n",
       "</tr>\n",
       "<tr>\n",
       "  <th>intercept</th> <td>    0.2088</td> <td>    0.119</td> <td>    1.753</td> <td> 0.080</td> <td>   -0.025</td> <td>    0.442</td>\n",
       "</tr>\n",
       "<tr>\n",
       "  <th>ar.L1</th>     <td>    1.0993</td> <td>    0.107</td> <td>   10.262</td> <td> 0.000</td> <td>    0.889</td> <td>    1.309</td>\n",
       "</tr>\n",
       "<tr>\n",
       "  <th>ar.L2</th>     <td>   -0.7456</td> <td>    0.090</td> <td>   -8.251</td> <td> 0.000</td> <td>   -0.923</td> <td>   -0.568</td>\n",
       "</tr>\n",
       "<tr>\n",
       "  <th>ma.L1</th>     <td>   -1.9406</td> <td>    0.108</td> <td>  -18.008</td> <td> 0.000</td> <td>   -2.152</td> <td>   -1.729</td>\n",
       "</tr>\n",
       "<tr>\n",
       "  <th>ma.L2</th>     <td>    1.5366</td> <td>    0.170</td> <td>    9.036</td> <td> 0.000</td> <td>    1.203</td> <td>    1.870</td>\n",
       "</tr>\n",
       "<tr>\n",
       "  <th>ma.L3</th>     <td>   -0.5238</td> <td>    0.084</td> <td>   -6.215</td> <td> 0.000</td> <td>   -0.689</td> <td>   -0.359</td>\n",
       "</tr>\n",
       "<tr>\n",
       "  <th>ma.L4</th>     <td>   -0.0278</td> <td>    0.034</td> <td>   -0.808</td> <td> 0.419</td> <td>   -0.095</td> <td>    0.040</td>\n",
       "</tr>\n",
       "<tr>\n",
       "  <th>sigma2</th>    <td> 3657.6203</td> <td>   65.554</td> <td>   55.795</td> <td> 0.000</td> <td> 3529.136</td> <td> 3786.105</td>\n",
       "</tr>\n",
       "</table>\n",
       "<table class=\"simpletable\">\n",
       "<tr>\n",
       "  <th>Ljung-Box (L1) (Q):</th>     <td>0.00</td> <th>  Jarque-Bera (JB):  </th> <td>36941.01</td>\n",
       "</tr>\n",
       "<tr>\n",
       "  <th>Prob(Q):</th>                <td>0.96</td> <th>  Prob(JB):          </th>   <td>0.00</td>  \n",
       "</tr>\n",
       "<tr>\n",
       "  <th>Heteroskedasticity (H):</th> <td>1.45</td> <th>  Skew:              </th>   <td>3.90</td>  \n",
       "</tr>\n",
       "<tr>\n",
       "  <th>Prob(H) (two-sided):</th>    <td>0.00</td> <th>  Kurtosis:          </th>   <td>24.96</td> \n",
       "</tr>\n",
       "</table><br/><br/>Warnings:<br/>[1] Covariance matrix calculated using the outer product of gradients (complex-step)."
      ],
      "text/plain": [
       "<class 'statsmodels.iolib.summary.Summary'>\n",
       "\"\"\"\n",
       "                               SARIMAX Results                                \n",
       "==============================================================================\n",
       "Dep. Variable:                      y   No. Observations:                 1634\n",
       "Model:               SARIMAX(2, 1, 4)   Log Likelihood               -9017.577\n",
       "Date:                Sat, 10 Sep 2022   AIC                          18051.155\n",
       "Time:                        17:14:38   BIC                          18094.340\n",
       "Sample:                             0   HQIC                         18067.175\n",
       "                               - 1634                                         \n",
       "Covariance Type:                  opg                                         \n",
       "==============================================================================\n",
       "                 coef    std err          z      P>|z|      [0.025      0.975]\n",
       "------------------------------------------------------------------------------\n",
       "intercept      0.2088      0.119      1.753      0.080      -0.025       0.442\n",
       "ar.L1          1.0993      0.107     10.262      0.000       0.889       1.309\n",
       "ar.L2         -0.7456      0.090     -8.251      0.000      -0.923      -0.568\n",
       "ma.L1         -1.9406      0.108    -18.008      0.000      -2.152      -1.729\n",
       "ma.L2          1.5366      0.170      9.036      0.000       1.203       1.870\n",
       "ma.L3         -0.5238      0.084     -6.215      0.000      -0.689      -0.359\n",
       "ma.L4         -0.0278      0.034     -0.808      0.419      -0.095       0.040\n",
       "sigma2      3657.6203     65.554     55.795      0.000    3529.136    3786.105\n",
       "===================================================================================\n",
       "Ljung-Box (L1) (Q):                   0.00   Jarque-Bera (JB):             36941.01\n",
       "Prob(Q):                              0.96   Prob(JB):                         0.00\n",
       "Heteroskedasticity (H):               1.45   Skew:                             3.90\n",
       "Prob(H) (two-sided):                  0.00   Kurtosis:                        24.96\n",
       "===================================================================================\n",
       "\n",
       "Warnings:\n",
       "[1] Covariance matrix calculated using the outer product of gradients (complex-step).\n",
       "\"\"\""
      ]
     },
     "execution_count": 42,
     "metadata": {},
     "output_type": "execute_result"
    }
   ],
   "source": [
    "stepwise_fit = auto_arima(df0['freq'],trace= True, suppress_warnings=True)           \n",
    "\n",
    "stepwise_fit.summary()"
   ]
  },
  {
   "cell_type": "code",
   "execution_count": 45,
   "id": "e6c8d578",
   "metadata": {},
   "outputs": [
    {
     "name": "stdout",
     "output_type": "stream",
     "text": [
      "(1634, 2)\n",
      "(1604, 2) (30, 2)\n",
      "date_account_created    2014-05-25 00:00:00\n",
      "freq                                    330\n",
      "Name: 2014-05-25 00:00:00, dtype: object date_account_created    2014-06-30 00:00:00\n",
      "freq                                    590\n",
      "Name: 2014-06-30 00:00:00, dtype: object\n"
     ]
    },
    {
     "data": {
      "text/html": [
       "<table class=\"simpletable\">\n",
       "<caption>SARIMAX Results</caption>\n",
       "<tr>\n",
       "  <th>Dep. Variable:</th>         <td>freq</td>       <th>  No. Observations:  </th>   <td>1604</td>   \n",
       "</tr>\n",
       "<tr>\n",
       "  <th>Model:</th>            <td>ARIMA(2, 1, 4)</td>  <th>  Log Likelihood     </th> <td>-8847.261</td>\n",
       "</tr>\n",
       "<tr>\n",
       "  <th>Date:</th>            <td>Sat, 10 Sep 2022</td> <th>  AIC                </th> <td>17708.522</td>\n",
       "</tr>\n",
       "<tr>\n",
       "  <th>Time:</th>                <td>17:15:12</td>     <th>  BIC                </th> <td>17746.180</td>\n",
       "</tr>\n",
       "<tr>\n",
       "  <th>Sample:</th>                  <td>0</td>        <th>  HQIC               </th> <td>17722.505</td>\n",
       "</tr>\n",
       "<tr>\n",
       "  <th></th>                      <td> - 1604</td>     <th>                     </th>     <td> </td>    \n",
       "</tr>\n",
       "<tr>\n",
       "  <th>Covariance Type:</th>        <td>opg</td>       <th>                     </th>     <td> </td>    \n",
       "</tr>\n",
       "</table>\n",
       "<table class=\"simpletable\">\n",
       "<tr>\n",
       "     <td></td>       <th>coef</th>     <th>std err</th>      <th>z</th>      <th>P>|z|</th>  <th>[0.025</th>    <th>0.975]</th>  \n",
       "</tr>\n",
       "<tr>\n",
       "  <th>ar.L1</th>  <td>    1.0915</td> <td>    0.113</td> <td>    9.672</td> <td> 0.000</td> <td>    0.870</td> <td>    1.313</td>\n",
       "</tr>\n",
       "<tr>\n",
       "  <th>ar.L2</th>  <td>   -0.7447</td> <td>    0.097</td> <td>   -7.661</td> <td> 0.000</td> <td>   -0.935</td> <td>   -0.554</td>\n",
       "</tr>\n",
       "<tr>\n",
       "  <th>ma.L1</th>  <td>   -1.9373</td> <td>    0.113</td> <td>  -17.154</td> <td> 0.000</td> <td>   -2.159</td> <td>   -1.716</td>\n",
       "</tr>\n",
       "<tr>\n",
       "  <th>ma.L2</th>  <td>    1.5544</td> <td>    0.178</td> <td>    8.718</td> <td> 0.000</td> <td>    1.205</td> <td>    1.904</td>\n",
       "</tr>\n",
       "<tr>\n",
       "  <th>ma.L3</th>  <td>   -0.5542</td> <td>    0.089</td> <td>   -6.226</td> <td> 0.000</td> <td>   -0.729</td> <td>   -0.380</td>\n",
       "</tr>\n",
       "<tr>\n",
       "  <th>ma.L4</th>  <td>   -0.0154</td> <td>    0.034</td> <td>   -0.451</td> <td> 0.652</td> <td>   -0.082</td> <td>    0.052</td>\n",
       "</tr>\n",
       "<tr>\n",
       "  <th>sigma2</th> <td> 3638.0791</td> <td>   38.467</td> <td>   94.577</td> <td> 0.000</td> <td> 3562.685</td> <td> 3713.473</td>\n",
       "</tr>\n",
       "</table>\n",
       "<table class=\"simpletable\">\n",
       "<tr>\n",
       "  <th>Ljung-Box (L1) (Q):</th>     <td>0.04</td> <th>  Jarque-Bera (JB):  </th> <td>39642.94</td>\n",
       "</tr>\n",
       "<tr>\n",
       "  <th>Prob(Q):</th>                <td>0.84</td> <th>  Prob(JB):          </th>   <td>0.00</td>  \n",
       "</tr>\n",
       "<tr>\n",
       "  <th>Heteroskedasticity (H):</th> <td>1.43</td> <th>  Skew:              </th>   <td>4.03</td>  \n",
       "</tr>\n",
       "<tr>\n",
       "  <th>Prob(H) (two-sided):</th>    <td>0.00</td> <th>  Kurtosis:          </th>   <td>25.99</td> \n",
       "</tr>\n",
       "</table><br/><br/>Warnings:<br/>[1] Covariance matrix calculated using the outer product of gradients (complex-step)."
      ],
      "text/plain": [
       "<class 'statsmodels.iolib.summary.Summary'>\n",
       "\"\"\"\n",
       "                               SARIMAX Results                                \n",
       "==============================================================================\n",
       "Dep. Variable:                   freq   No. Observations:                 1604\n",
       "Model:                 ARIMA(2, 1, 4)   Log Likelihood               -8847.261\n",
       "Date:                Sat, 10 Sep 2022   AIC                          17708.522\n",
       "Time:                        17:15:12   BIC                          17746.180\n",
       "Sample:                             0   HQIC                         17722.505\n",
       "                               - 1604                                         \n",
       "Covariance Type:                  opg                                         \n",
       "==============================================================================\n",
       "                 coef    std err          z      P>|z|      [0.025      0.975]\n",
       "------------------------------------------------------------------------------\n",
       "ar.L1          1.0915      0.113      9.672      0.000       0.870       1.313\n",
       "ar.L2         -0.7447      0.097     -7.661      0.000      -0.935      -0.554\n",
       "ma.L1         -1.9373      0.113    -17.154      0.000      -2.159      -1.716\n",
       "ma.L2          1.5544      0.178      8.718      0.000       1.205       1.904\n",
       "ma.L3         -0.5542      0.089     -6.226      0.000      -0.729      -0.380\n",
       "ma.L4         -0.0154      0.034     -0.451      0.652      -0.082       0.052\n",
       "sigma2      3638.0791     38.467     94.577      0.000    3562.685    3713.473\n",
       "===================================================================================\n",
       "Ljung-Box (L1) (Q):                   0.04   Jarque-Bera (JB):             39642.94\n",
       "Prob(Q):                              0.84   Prob(JB):                         0.00\n",
       "Heteroskedasticity (H):               1.43   Skew:                             4.03\n",
       "Prob(H) (two-sided):                  0.00   Kurtosis:                        25.99\n",
       "===================================================================================\n",
       "\n",
       "Warnings:\n",
       "[1] Covariance matrix calculated using the outer product of gradients (complex-step).\n",
       "\"\"\""
      ]
     },
     "execution_count": 45,
     "metadata": {},
     "output_type": "execute_result"
    }
   ],
   "source": [
    "from statsmodels.tsa.arima_model import ARIMA\n",
    "\n",
    "print(df0.shape)\n",
    "train0=df0.iloc[:-30]\n",
    "test0=df0.iloc[-30:]\n",
    "start=len(train0)\n",
    "end=len(train0)+len(test0)-1\n",
    "test0.index=df0['date_account_created'][start:end+1]\n",
    "print(train0.shape,test0.shape)\n",
    "print(test0.iloc[0],test0.iloc[-1])\n",
    "\n",
    "import statsmodels.api as sm\n",
    "model = sm.tsa.arima.ARIMA(train0['freq'], order=(2,1,4))\n",
    "result = model.fit()\n",
    "result.summary()"
   ]
  },
  {
   "cell_type": "code",
   "execution_count": 46,
   "id": "17e48add",
   "metadata": {},
   "outputs": [
    {
     "name": "stdout",
     "output_type": "stream",
     "text": [
      "date_account_created\n",
      "2010-12-11    447.116345\n",
      "2010-12-11    451.411479\n",
      "2010-12-11    465.230150\n",
      "2010-12-11    478.261918\n",
      "2010-12-11    482.195721\n",
      "2010-12-12    476.785083\n",
      "2010-12-12    467.949985\n",
      "2010-12-12    462.335626\n",
      "2010-12-12    462.786799\n",
      "2010-12-12    467.460105\n",
      "2010-12-12    472.225040\n",
      "2010-12-12    473.945889\n",
      "2010-12-12    472.275884\n",
      "2010-12-13    469.171609\n",
      "2010-12-13    467.026898\n",
      "2010-12-13    466.997612\n",
      "2010-12-13    468.562750\n",
      "2010-12-14    470.292906\n",
      "2010-12-14    471.015858\n",
      "2010-12-14    470.516561\n",
      "2010-12-14    469.433218\n",
      "2010-12-14    468.622562\n",
      "2010-12-14    468.544465\n",
      "2010-12-15    469.062895\n",
      "2010-12-15    469.686917\n",
      "2010-12-15    469.981977\n",
      "2010-12-15    469.839344\n",
      "2010-12-15    469.463937\n",
      "2010-12-15    469.160396\n",
      "2010-12-15    469.108635\n",
      "Name: ARIMA predictions, dtype: float64\n"
     ]
    }
   ],
   "source": [
    "start=len(train0)\n",
    "end=len(train0)+len(test0)-1\n",
    "#if the predicted values dont have date values as index, you will have to uncomment the following two commented lines to plot a graph\n",
    "# index_future_dates=pd.date_range(start=df['date_account_created'][start],end=df['date_account_created'][end])\n",
    "pred=result.predict(start=start,end=end,type='levels').rename('ARIMA predictions')\n",
    "pred.index=df['date_account_created'][start:end+1]\n",
    "# pred.index=index_future_dates\n",
    "\n",
    "print(pred)"
   ]
  },
  {
   "cell_type": "markdown",
   "id": "f3ee8e58",
   "metadata": {},
   "source": [
    "# 3-Machine learning model :"
   ]
  },
  {
   "cell_type": "markdown",
   "id": "8454b972",
   "metadata": {},
   "source": [
    "<a id='knn'></a>"
   ]
  },
  {
   "cell_type": "markdown",
   "id": "db8727fe",
   "metadata": {},
   "source": [
    "We split the Dataset into train and test subsets:"
   ]
  },
  {
   "cell_type": "code",
   "execution_count": 47,
   "id": "4d2fe237",
   "metadata": {
    "scrolled": false
   },
   "outputs": [
    {
     "data": {
      "text/html": [
       "<div>\n",
       "<style scoped>\n",
       "    .dataframe tbody tr th:only-of-type {\n",
       "        vertical-align: middle;\n",
       "    }\n",
       "\n",
       "    .dataframe tbody tr th {\n",
       "        vertical-align: top;\n",
       "    }\n",
       "\n",
       "    .dataframe thead th {\n",
       "        text-align: right;\n",
       "    }\n",
       "</style>\n",
       "<table border=\"1\" class=\"dataframe\">\n",
       "  <thead>\n",
       "    <tr style=\"text-align: right;\">\n",
       "      <th></th>\n",
       "      <th>gender</th>\n",
       "      <th>age</th>\n",
       "      <th>signup_method</th>\n",
       "      <th>affiliate_channel</th>\n",
       "      <th>affiliate_provider</th>\n",
       "      <th>first_affiliate_tracked</th>\n",
       "      <th>signup_app</th>\n",
       "      <th>first_browser</th>\n",
       "      <th>country_destination</th>\n",
       "    </tr>\n",
       "  </thead>\n",
       "  <tbody>\n",
       "    <tr>\n",
       "      <th>1</th>\n",
       "      <td>MALE</td>\n",
       "      <td>38.0</td>\n",
       "      <td>facebook</td>\n",
       "      <td>seo</td>\n",
       "      <td>google</td>\n",
       "      <td>untracked</td>\n",
       "      <td>Web</td>\n",
       "      <td>Chrome</td>\n",
       "      <td>NDF</td>\n",
       "    </tr>\n",
       "    <tr>\n",
       "      <th>2</th>\n",
       "      <td>FEMALE</td>\n",
       "      <td>56.0</td>\n",
       "      <td>basic</td>\n",
       "      <td>direct</td>\n",
       "      <td>direct</td>\n",
       "      <td>untracked</td>\n",
       "      <td>Web</td>\n",
       "      <td>IE</td>\n",
       "      <td>US</td>\n",
       "    </tr>\n",
       "    <tr>\n",
       "      <th>3</th>\n",
       "      <td>FEMALE</td>\n",
       "      <td>42.0</td>\n",
       "      <td>facebook</td>\n",
       "      <td>direct</td>\n",
       "      <td>direct</td>\n",
       "      <td>untracked</td>\n",
       "      <td>Web</td>\n",
       "      <td>Firefox</td>\n",
       "      <td>other</td>\n",
       "    </tr>\n",
       "    <tr>\n",
       "      <th>4</th>\n",
       "      <td>-unknown-</td>\n",
       "      <td>41.0</td>\n",
       "      <td>basic</td>\n",
       "      <td>direct</td>\n",
       "      <td>direct</td>\n",
       "      <td>untracked</td>\n",
       "      <td>Web</td>\n",
       "      <td>Chrome</td>\n",
       "      <td>US</td>\n",
       "    </tr>\n",
       "    <tr>\n",
       "      <th>6</th>\n",
       "      <td>FEMALE</td>\n",
       "      <td>46.0</td>\n",
       "      <td>basic</td>\n",
       "      <td>other</td>\n",
       "      <td>craigslist</td>\n",
       "      <td>untracked</td>\n",
       "      <td>Web</td>\n",
       "      <td>Safari</td>\n",
       "      <td>US</td>\n",
       "    </tr>\n",
       "  </tbody>\n",
       "</table>\n",
       "</div>"
      ],
      "text/plain": [
       "      gender   age signup_method affiliate_channel affiliate_provider  \\\n",
       "1       MALE  38.0      facebook               seo             google   \n",
       "2     FEMALE  56.0         basic            direct             direct   \n",
       "3     FEMALE  42.0      facebook            direct             direct   \n",
       "4  -unknown-  41.0         basic            direct             direct   \n",
       "6     FEMALE  46.0         basic             other         craigslist   \n",
       "\n",
       "  first_affiliate_tracked signup_app first_browser country_destination  \n",
       "1               untracked        Web        Chrome                 NDF  \n",
       "2               untracked        Web            IE                  US  \n",
       "3               untracked        Web       Firefox               other  \n",
       "4               untracked        Web        Chrome                  US  \n",
       "6               untracked        Web        Safari                  US  "
      ]
     },
     "execution_count": 47,
     "metadata": {},
     "output_type": "execute_result"
    }
   ],
   "source": [
    "ml = df.drop(['date_account_created','date_first_booking','language','signup_flow'],axis = 1)\n",
    "ml.fillna(-1)\n",
    "ml.head(5)"
   ]
  },
  {
   "cell_type": "code",
   "execution_count": 48,
   "id": "abc89207",
   "metadata": {},
   "outputs": [],
   "source": [
    "#>>>>>>>>>>\n",
    "#Encoding data columns using sklearn :\n",
    "# from sklearn import preprocessing\n",
    "# ge = preprocessing.LabelEncoder()\n",
    "# gender_encoded = ge.fit_transform(ml['gender'])\n",
    "\n",
    "# sme = preprocessing.LabelEncoder()\n",
    "# signup_meth_encoded = sme.fit_transform(ml['signup_method'])\n",
    "\n",
    "# ace = preprocessing.LabelEncoder()\n",
    "# af_ch_encoded = ace.fit_transform(ml['affiliate_channel'])\n",
    "\n",
    "# ape = preprocessing.LabelEncoder()\n",
    "# af_pro_encoded = ape.fit_transform(ml['affiliate_provider'])\n",
    "\n",
    "# fae = preprocessing.LabelEncoder()\n",
    "# fir_aff_track_encoded = fae.fit_transform(ml['first_affiliate_tracked'])\n",
    "\n",
    "# sae = preprocessing.LabelEncoder()\n",
    "# signup_app_encoded = sae.fit_transform(ml['signup_app'])\n",
    "\n",
    "# fbe = preprocessing.LabelEncoder()\n",
    "# fir_brow_encoded = fbe.fit_transform(ml['first_browser'])\n"
   ]
  },
  {
   "cell_type": "code",
   "execution_count": 49,
   "id": "95d62d85",
   "metadata": {
    "scrolled": true
   },
   "outputs": [],
   "source": [
    "#>>>>>>>>>>>>>>\n",
    "# x = list(zip(gender_encoded,ml.age,signup_meth_encoded,af_ch_encoded,af_pro_encoded,fir_aff_track_encoded\n",
    "#             ,signup_app_encoded, fir_brow_encoded))\n",
    "# x"
   ]
  },
  {
   "cell_type": "code",
   "execution_count": 50,
   "id": "fc03542a",
   "metadata": {
    "scrolled": true
   },
   "outputs": [
    {
     "data": {
      "text/html": [
       "<div>\n",
       "<style scoped>\n",
       "    .dataframe tbody tr th:only-of-type {\n",
       "        vertical-align: middle;\n",
       "    }\n",
       "\n",
       "    .dataframe tbody tr th {\n",
       "        vertical-align: top;\n",
       "    }\n",
       "\n",
       "    .dataframe thead th {\n",
       "        text-align: right;\n",
       "    }\n",
       "</style>\n",
       "<table border=\"1\" class=\"dataframe\">\n",
       "  <thead>\n",
       "    <tr style=\"text-align: right;\">\n",
       "      <th></th>\n",
       "      <th>gender</th>\n",
       "      <th>age</th>\n",
       "      <th>signup_method</th>\n",
       "      <th>affiliate_channel</th>\n",
       "      <th>affiliate_provider</th>\n",
       "      <th>first_affiliate_tracked</th>\n",
       "      <th>signup_app</th>\n",
       "      <th>first_browser</th>\n",
       "    </tr>\n",
       "  </thead>\n",
       "  <tbody>\n",
       "    <tr>\n",
       "      <th>1</th>\n",
       "      <td>0</td>\n",
       "      <td>38.0</td>\n",
       "      <td>0</td>\n",
       "      <td>0</td>\n",
       "      <td>0</td>\n",
       "      <td>0</td>\n",
       "      <td>0</td>\n",
       "      <td>0</td>\n",
       "    </tr>\n",
       "    <tr>\n",
       "      <th>2</th>\n",
       "      <td>1</td>\n",
       "      <td>56.0</td>\n",
       "      <td>1</td>\n",
       "      <td>1</td>\n",
       "      <td>1</td>\n",
       "      <td>0</td>\n",
       "      <td>0</td>\n",
       "      <td>1</td>\n",
       "    </tr>\n",
       "    <tr>\n",
       "      <th>3</th>\n",
       "      <td>1</td>\n",
       "      <td>42.0</td>\n",
       "      <td>0</td>\n",
       "      <td>1</td>\n",
       "      <td>1</td>\n",
       "      <td>0</td>\n",
       "      <td>0</td>\n",
       "      <td>2</td>\n",
       "    </tr>\n",
       "    <tr>\n",
       "      <th>4</th>\n",
       "      <td>2</td>\n",
       "      <td>41.0</td>\n",
       "      <td>1</td>\n",
       "      <td>1</td>\n",
       "      <td>1</td>\n",
       "      <td>0</td>\n",
       "      <td>0</td>\n",
       "      <td>0</td>\n",
       "    </tr>\n",
       "    <tr>\n",
       "      <th>6</th>\n",
       "      <td>1</td>\n",
       "      <td>46.0</td>\n",
       "      <td>1</td>\n",
       "      <td>2</td>\n",
       "      <td>2</td>\n",
       "      <td>0</td>\n",
       "      <td>0</td>\n",
       "      <td>3</td>\n",
       "    </tr>\n",
       "  </tbody>\n",
       "</table>\n",
       "</div>"
      ],
      "text/plain": [
       "   gender   age  signup_method  affiliate_channel  affiliate_provider  \\\n",
       "1       0  38.0              0                  0                   0   \n",
       "2       1  56.0              1                  1                   1   \n",
       "3       1  42.0              0                  1                   1   \n",
       "4       2  41.0              1                  1                   1   \n",
       "6       1  46.0              1                  2                   2   \n",
       "\n",
       "   first_affiliate_tracked  signup_app  first_browser  \n",
       "1                        0           0              0  \n",
       "2                        0           0              1  \n",
       "3                        0           0              2  \n",
       "4                        0           0              0  \n",
       "6                        0           0              3  "
      ]
     },
     "execution_count": 50,
     "metadata": {},
     "output_type": "execute_result"
    }
   ],
   "source": [
    "#Encoding data manulally :-\n",
    "x = ml.drop(['country_destination'],axis =1)\n",
    "x['gender'] = x['gender'].replace(x['gender'].unique(),np.arange(0,len(x['gender'].unique())))\n",
    "x['signup_method'] = x['signup_method'].replace(x['signup_method'].unique(),np.arange(0,len(x['signup_method'].unique())))\n",
    "x['affiliate_channel'] = x['affiliate_channel'].replace(x['affiliate_channel'].unique(),np.arange(0,len(x['affiliate_channel'].unique())))\n",
    "x['affiliate_provider'] = x['affiliate_provider'].replace(x['affiliate_provider'].unique(),np.arange(0,len(x['affiliate_provider'].unique())))\n",
    "x['first_affiliate_tracked'] = x['first_affiliate_tracked'].replace(x['first_affiliate_tracked'].unique(),np.arange(0,len(x['first_affiliate_tracked'].unique())))\n",
    "x['signup_app'] = x['signup_app'].replace(x['signup_app'].unique(),np.arange(0,len(x['signup_app'].unique())))\n",
    "x['first_browser'] = x['first_browser'].replace(x['first_browser'].unique(),np.arange(0,len(x['first_browser'].unique())))\n",
    "\n",
    "x.head()"
   ]
  },
  {
   "cell_type": "code",
   "execution_count": 51,
   "id": "5509fa98",
   "metadata": {},
   "outputs": [
    {
     "name": "stdout",
     "output_type": "stream",
     "text": [
      "['NDF' 'US' 'other' 'CA' 'FR' 'IT' 'ES' 'GB' 'NL' 'DE' 'AU' 'PT']\n"
     ]
    },
    {
     "data": {
      "text/plain": [
       "1         0\n",
       "2         1\n",
       "3         2\n",
       "4         1\n",
       "6         1\n",
       "         ..\n",
       "213441    6\n",
       "213443    1\n",
       "213445    1\n",
       "213446    0\n",
       "213448    0\n",
       "Name: country_destination, Length: 125461, dtype: int64"
      ]
     },
     "execution_count": 51,
     "metadata": {},
     "output_type": "execute_result"
    }
   ],
   "source": [
    "y = df['country_destination']\n",
    "myy = y.unique()\n",
    "print(myy)\n",
    "y =y.replace(y.unique(),np.arange(0,len(y.unique())))\n",
    "y"
   ]
  },
  {
   "cell_type": "code",
   "execution_count": 52,
   "id": "b27eeff3",
   "metadata": {},
   "outputs": [],
   "source": [
    "# ## >>>>>>>>\n",
    "# #Encoding the target columns 'country_destination' :\n",
    "# cde = preprocessing.LabelEncoder()\n",
    "# countrydist_encoded = cde.fit_transform(df['country_destination'])\n",
    "# y = countrydist_encoded\n",
    "# np.unique(y)"
   ]
  },
  {
   "cell_type": "code",
   "execution_count": 53,
   "id": "3e663881",
   "metadata": {},
   "outputs": [],
   "source": [
    "from sklearn.model_selection import train_test_split"
   ]
  },
  {
   "cell_type": "code",
   "execution_count": 54,
   "id": "37b42bf8",
   "metadata": {},
   "outputs": [],
   "source": [
    "# now splitting our data into test and train treain_test_split :\n",
    "x_train, x_test, y_train, y_test =  train_test_split(x,y,test_size = 0.2) \n",
    "#we here use 'random _state = 10' so that the result of splitting isnot changed each time we run the cell :)"
   ]
  },
  {
   "cell_type": "markdown",
   "id": "e2943057",
   "metadata": {},
   "source": [
    "Now we start building our KNN 'k nearest nighbour' classifier :-"
   ]
  },
  {
   "cell_type": "code",
   "execution_count": 55,
   "id": "840a98a8",
   "metadata": {},
   "outputs": [
    {
     "data": {
      "text/plain": [
       "158.40770183296013"
      ]
     },
     "execution_count": 55,
     "metadata": {},
     "output_type": "execute_result"
    }
   ],
   "source": [
    "import math\n",
    "math.sqrt(len(y_test))"
   ]
  },
  {
   "cell_type": "code",
   "execution_count": 56,
   "id": "12da4537",
   "metadata": {},
   "outputs": [
    {
     "data": {
      "text/html": [
       "<style>#sk-container-id-1 {color: black;background-color: white;}#sk-container-id-1 pre{padding: 0;}#sk-container-id-1 div.sk-toggleable {background-color: white;}#sk-container-id-1 label.sk-toggleable__label {cursor: pointer;display: block;width: 100%;margin-bottom: 0;padding: 0.3em;box-sizing: border-box;text-align: center;}#sk-container-id-1 label.sk-toggleable__label-arrow:before {content: \"▸\";float: left;margin-right: 0.25em;color: #696969;}#sk-container-id-1 label.sk-toggleable__label-arrow:hover:before {color: black;}#sk-container-id-1 div.sk-estimator:hover label.sk-toggleable__label-arrow:before {color: black;}#sk-container-id-1 div.sk-toggleable__content {max-height: 0;max-width: 0;overflow: hidden;text-align: left;background-color: #f0f8ff;}#sk-container-id-1 div.sk-toggleable__content pre {margin: 0.2em;color: black;border-radius: 0.25em;background-color: #f0f8ff;}#sk-container-id-1 input.sk-toggleable__control:checked~div.sk-toggleable__content {max-height: 200px;max-width: 100%;overflow: auto;}#sk-container-id-1 input.sk-toggleable__control:checked~label.sk-toggleable__label-arrow:before {content: \"▾\";}#sk-container-id-1 div.sk-estimator input.sk-toggleable__control:checked~label.sk-toggleable__label {background-color: #d4ebff;}#sk-container-id-1 div.sk-label input.sk-toggleable__control:checked~label.sk-toggleable__label {background-color: #d4ebff;}#sk-container-id-1 input.sk-hidden--visually {border: 0;clip: rect(1px 1px 1px 1px);clip: rect(1px, 1px, 1px, 1px);height: 1px;margin: -1px;overflow: hidden;padding: 0;position: absolute;width: 1px;}#sk-container-id-1 div.sk-estimator {font-family: monospace;background-color: #f0f8ff;border: 1px dotted black;border-radius: 0.25em;box-sizing: border-box;margin-bottom: 0.5em;}#sk-container-id-1 div.sk-estimator:hover {background-color: #d4ebff;}#sk-container-id-1 div.sk-parallel-item::after {content: \"\";width: 100%;border-bottom: 1px solid gray;flex-grow: 1;}#sk-container-id-1 div.sk-label:hover label.sk-toggleable__label {background-color: #d4ebff;}#sk-container-id-1 div.sk-serial::before {content: \"\";position: absolute;border-left: 1px solid gray;box-sizing: border-box;top: 0;bottom: 0;left: 50%;z-index: 0;}#sk-container-id-1 div.sk-serial {display: flex;flex-direction: column;align-items: center;background-color: white;padding-right: 0.2em;padding-left: 0.2em;position: relative;}#sk-container-id-1 div.sk-item {position: relative;z-index: 1;}#sk-container-id-1 div.sk-parallel {display: flex;align-items: stretch;justify-content: center;background-color: white;position: relative;}#sk-container-id-1 div.sk-item::before, #sk-container-id-1 div.sk-parallel-item::before {content: \"\";position: absolute;border-left: 1px solid gray;box-sizing: border-box;top: 0;bottom: 0;left: 50%;z-index: -1;}#sk-container-id-1 div.sk-parallel-item {display: flex;flex-direction: column;z-index: 1;position: relative;background-color: white;}#sk-container-id-1 div.sk-parallel-item:first-child::after {align-self: flex-end;width: 50%;}#sk-container-id-1 div.sk-parallel-item:last-child::after {align-self: flex-start;width: 50%;}#sk-container-id-1 div.sk-parallel-item:only-child::after {width: 0;}#sk-container-id-1 div.sk-dashed-wrapped {border: 1px dashed gray;margin: 0 0.4em 0.5em 0.4em;box-sizing: border-box;padding-bottom: 0.4em;background-color: white;}#sk-container-id-1 div.sk-label label {font-family: monospace;font-weight: bold;display: inline-block;line-height: 1.2em;}#sk-container-id-1 div.sk-label-container {text-align: center;}#sk-container-id-1 div.sk-container {/* jupyter's `normalize.less` sets `[hidden] { display: none; }` but bootstrap.min.css set `[hidden] { display: none !important; }` so we also need the `!important` here to be able to override the default hidden behavior on the sphinx rendered scikit-learn.org. See: https://github.com/scikit-learn/scikit-learn/issues/21755 */display: inline-block !important;position: relative;}#sk-container-id-1 div.sk-text-repr-fallback {display: none;}</style><div id=\"sk-container-id-1\" class=\"sk-top-container\"><div class=\"sk-text-repr-fallback\"><pre>KNeighborsClassifier(metric=&#x27;euclidean&#x27;, n_neighbors=53, p=12)</pre><b>In a Jupyter environment, please rerun this cell to show the HTML representation or trust the notebook. <br />On GitHub, the HTML representation is unable to render, please try loading this page with nbviewer.org.</b></div><div class=\"sk-container\" hidden><div class=\"sk-item\"><div class=\"sk-estimator sk-toggleable\"><input class=\"sk-toggleable__control sk-hidden--visually\" id=\"sk-estimator-id-1\" type=\"checkbox\" checked><label for=\"sk-estimator-id-1\" class=\"sk-toggleable__label sk-toggleable__label-arrow\">KNeighborsClassifier</label><div class=\"sk-toggleable__content\"><pre>KNeighborsClassifier(metric=&#x27;euclidean&#x27;, n_neighbors=53, p=12)</pre></div></div></div></div></div>"
      ],
      "text/plain": [
       "KNeighborsClassifier(metric='euclidean', n_neighbors=53, p=12)"
      ]
     },
     "execution_count": 56,
     "metadata": {},
     "output_type": "execute_result"
    }
   ],
   "source": [
    "from sklearn.neighbors import KNeighborsClassifier\n",
    "\n",
    "kn = KNeighborsClassifier(n_neighbors = 53,p = 12,metric = 'euclidean',weights = 'uniform')\n",
    "kn.fit(x_train,y_train)"
   ]
  },
  {
   "cell_type": "code",
   "execution_count": 57,
   "id": "460f97bd",
   "metadata": {
    "scrolled": true
   },
   "outputs": [
    {
     "data": {
      "text/plain": [
       "0.518431435061571"
      ]
     },
     "execution_count": 57,
     "metadata": {},
     "output_type": "execute_result"
    }
   ],
   "source": [
    "kn.score(x_test,y_test)"
   ]
  },
  {
   "cell_type": "code",
   "execution_count": 58,
   "id": "468b9b95",
   "metadata": {},
   "outputs": [
    {
     "data": {
      "text/plain": [
       "array([0, 0, 0, ..., 0, 0, 1], dtype=int64)"
      ]
     },
     "execution_count": 58,
     "metadata": {},
     "output_type": "execute_result"
    }
   ],
   "source": [
    "y_pred = kn.predict(x_test)\n",
    "y_pred"
   ]
  },
  {
   "cell_type": "code",
   "execution_count": 59,
   "id": "20b4ec0f",
   "metadata": {},
   "outputs": [
    {
     "data": {
      "text/plain": [
       "array([0, 1], dtype=int64)"
      ]
     },
     "execution_count": 59,
     "metadata": {},
     "output_type": "execute_result"
    }
   ],
   "source": [
    "np.unique(y_pred)"
   ]
  },
  {
   "cell_type": "code",
   "execution_count": 60,
   "id": "7fea5243",
   "metadata": {},
   "outputs": [
    {
     "data": {
      "text/plain": [
       "NDF    15460\n",
       "US      9633\n",
       "dtype: int64"
      ]
     },
     "execution_count": 60,
     "metadata": {},
     "output_type": "execute_result"
    }
   ],
   "source": [
    "\n",
    "y_pred = pd.DataFrame(data = y_pred,index = np.arange(len(y_pred)))\n",
    "\n",
    "y_pred =y_pred.replace(np.arange(0,len(myy)),myy)\n",
    "y_pred.value_counts()\n"
   ]
  },
  {
   "cell_type": "markdown",
   "id": "d5bbdbd5",
   "metadata": {},
   "source": [
    "# ----------------------------------------------------------------------------------------"
   ]
  },
  {
   "cell_type": "markdown",
   "id": "dd34d1fa",
   "metadata": {},
   "source": [
    "• Here we notice that our model only predicts 'NDF' and 'US' destinations as the data is strongly favoured them, so the predicted results using all the data only contained 'NDF' and 'US'"
   ]
  },
  {
   "cell_type": "markdown",
   "id": "4c542550",
   "metadata": {},
   "source": [
    "◘ So we need to modify our data to predict other destinations as well so we will:\n",
    " *   1-Remove 'NDF' data points.\n",
    " *   2-Remove 20% of 'US'data points."
   ]
  },
  {
   "cell_type": "code",
   "execution_count": 61,
   "id": "bcf12607",
   "metadata": {},
   "outputs": [
    {
     "data": {
      "text/plain": [
       "(125461, 9)"
      ]
     },
     "execution_count": 61,
     "metadata": {},
     "output_type": "execute_result"
    }
   ],
   "source": [
    "mod = df.drop(['date_account_created','date_first_booking','language','signup_flow'],axis = 1)\n",
    "mod.fillna(-1)\n",
    "mod.shape"
   ]
  },
  {
   "cell_type": "code",
   "execution_count": 62,
   "id": "4d66a33d",
   "metadata": {
    "scrolled": true
   },
   "outputs": [
    {
     "data": {
      "text/html": [
       "<div>\n",
       "<style scoped>\n",
       "    .dataframe tbody tr th:only-of-type {\n",
       "        vertical-align: middle;\n",
       "    }\n",
       "\n",
       "    .dataframe tbody tr th {\n",
       "        vertical-align: top;\n",
       "    }\n",
       "\n",
       "    .dataframe thead th {\n",
       "        text-align: right;\n",
       "    }\n",
       "</style>\n",
       "<table border=\"1\" class=\"dataframe\">\n",
       "  <thead>\n",
       "    <tr style=\"text-align: right;\">\n",
       "      <th></th>\n",
       "      <th>gender</th>\n",
       "      <th>age</th>\n",
       "      <th>signup_method</th>\n",
       "      <th>affiliate_channel</th>\n",
       "      <th>affiliate_provider</th>\n",
       "      <th>first_affiliate_tracked</th>\n",
       "      <th>signup_app</th>\n",
       "      <th>first_browser</th>\n",
       "      <th>country_destination</th>\n",
       "    </tr>\n",
       "  </thead>\n",
       "  <tbody>\n",
       "    <tr>\n",
       "      <th>2</th>\n",
       "      <td>FEMALE</td>\n",
       "      <td>56.0</td>\n",
       "      <td>basic</td>\n",
       "      <td>direct</td>\n",
       "      <td>direct</td>\n",
       "      <td>untracked</td>\n",
       "      <td>Web</td>\n",
       "      <td>IE</td>\n",
       "      <td>US</td>\n",
       "    </tr>\n",
       "    <tr>\n",
       "      <th>3</th>\n",
       "      <td>FEMALE</td>\n",
       "      <td>42.0</td>\n",
       "      <td>facebook</td>\n",
       "      <td>direct</td>\n",
       "      <td>direct</td>\n",
       "      <td>untracked</td>\n",
       "      <td>Web</td>\n",
       "      <td>Firefox</td>\n",
       "      <td>other</td>\n",
       "    </tr>\n",
       "    <tr>\n",
       "      <th>4</th>\n",
       "      <td>-unknown-</td>\n",
       "      <td>41.0</td>\n",
       "      <td>basic</td>\n",
       "      <td>direct</td>\n",
       "      <td>direct</td>\n",
       "      <td>untracked</td>\n",
       "      <td>Web</td>\n",
       "      <td>Chrome</td>\n",
       "      <td>US</td>\n",
       "    </tr>\n",
       "    <tr>\n",
       "      <th>6</th>\n",
       "      <td>FEMALE</td>\n",
       "      <td>46.0</td>\n",
       "      <td>basic</td>\n",
       "      <td>other</td>\n",
       "      <td>craigslist</td>\n",
       "      <td>untracked</td>\n",
       "      <td>Web</td>\n",
       "      <td>Safari</td>\n",
       "      <td>US</td>\n",
       "    </tr>\n",
       "    <tr>\n",
       "      <th>7</th>\n",
       "      <td>FEMALE</td>\n",
       "      <td>47.0</td>\n",
       "      <td>basic</td>\n",
       "      <td>direct</td>\n",
       "      <td>direct</td>\n",
       "      <td>omg</td>\n",
       "      <td>Web</td>\n",
       "      <td>Safari</td>\n",
       "      <td>US</td>\n",
       "    </tr>\n",
       "  </tbody>\n",
       "</table>\n",
       "</div>"
      ],
      "text/plain": [
       "      gender   age signup_method affiliate_channel affiliate_provider  \\\n",
       "2     FEMALE  56.0         basic            direct             direct   \n",
       "3     FEMALE  42.0      facebook            direct             direct   \n",
       "4  -unknown-  41.0         basic            direct             direct   \n",
       "6     FEMALE  46.0         basic             other         craigslist   \n",
       "7     FEMALE  47.0         basic            direct             direct   \n",
       "\n",
       "  first_affiliate_tracked signup_app first_browser country_destination  \n",
       "2               untracked        Web            IE                  US  \n",
       "3               untracked        Web       Firefox               other  \n",
       "4               untracked        Web        Chrome                  US  \n",
       "6               untracked        Web        Safari                  US  \n",
       "7                     omg        Web        Safari                  US  "
      ]
     },
     "execution_count": 62,
     "metadata": {},
     "output_type": "execute_result"
    }
   ],
   "source": [
    "# removing NDF data points :\n",
    "mod = mod[mod.country_destination != 'NDF']\n",
    "mod.head()"
   ]
  },
  {
   "cell_type": "code",
   "execution_count": 63,
   "id": "84c01661",
   "metadata": {},
   "outputs": [],
   "source": [
    "#Here we remove 20% of the \"US\" data points\n",
    "s = 0# first we calculate the number of us points\n",
    "for i in mod['country_destination']:\n",
    "    if (i== 'US'):\n",
    "        s += 1\n",
    "        \n",
    "s = s*0.2\n",
    "c = 0\n",
    "#then we remove 20% off \n",
    "for i in mod['country_destination']: \n",
    "    if (i == 'US')& (c <s):\n",
    "        mod = mod.drop(mod.index[c])\n",
    "        c += 1\n"
   ]
  },
  {
   "cell_type": "code",
   "execution_count": 64,
   "id": "e92d8e0f",
   "metadata": {},
   "outputs": [
    {
     "data": {
      "text/html": [
       "<div>\n",
       "<style scoped>\n",
       "    .dataframe tbody tr th:only-of-type {\n",
       "        vertical-align: middle;\n",
       "    }\n",
       "\n",
       "    .dataframe tbody tr th {\n",
       "        vertical-align: top;\n",
       "    }\n",
       "\n",
       "    .dataframe thead th {\n",
       "        text-align: right;\n",
       "    }\n",
       "</style>\n",
       "<table border=\"1\" class=\"dataframe\">\n",
       "  <thead>\n",
       "    <tr style=\"text-align: right;\">\n",
       "      <th></th>\n",
       "      <th>gender</th>\n",
       "      <th>age</th>\n",
       "      <th>signup_method</th>\n",
       "      <th>affiliate_channel</th>\n",
       "      <th>affiliate_provider</th>\n",
       "      <th>first_affiliate_tracked</th>\n",
       "      <th>signup_app</th>\n",
       "      <th>first_browser</th>\n",
       "      <th>country_destination</th>\n",
       "    </tr>\n",
       "  </thead>\n",
       "  <tbody>\n",
       "    <tr>\n",
       "      <th>3</th>\n",
       "      <td>FEMALE</td>\n",
       "      <td>42.0</td>\n",
       "      <td>facebook</td>\n",
       "      <td>direct</td>\n",
       "      <td>direct</td>\n",
       "      <td>untracked</td>\n",
       "      <td>Web</td>\n",
       "      <td>Firefox</td>\n",
       "      <td>other</td>\n",
       "    </tr>\n",
       "    <tr>\n",
       "      <th>6</th>\n",
       "      <td>FEMALE</td>\n",
       "      <td>46.0</td>\n",
       "      <td>basic</td>\n",
       "      <td>other</td>\n",
       "      <td>craigslist</td>\n",
       "      <td>untracked</td>\n",
       "      <td>Web</td>\n",
       "      <td>Safari</td>\n",
       "      <td>US</td>\n",
       "    </tr>\n",
       "    <tr>\n",
       "      <th>8</th>\n",
       "      <td>FEMALE</td>\n",
       "      <td>50.0</td>\n",
       "      <td>basic</td>\n",
       "      <td>other</td>\n",
       "      <td>craigslist</td>\n",
       "      <td>untracked</td>\n",
       "      <td>Web</td>\n",
       "      <td>Safari</td>\n",
       "      <td>US</td>\n",
       "    </tr>\n",
       "    <tr>\n",
       "      <th>10</th>\n",
       "      <td>FEMALE</td>\n",
       "      <td>36.0</td>\n",
       "      <td>basic</td>\n",
       "      <td>other</td>\n",
       "      <td>craigslist</td>\n",
       "      <td>untracked</td>\n",
       "      <td>Web</td>\n",
       "      <td>Firefox</td>\n",
       "      <td>US</td>\n",
       "    </tr>\n",
       "    <tr>\n",
       "      <th>17</th>\n",
       "      <td>-unknown-</td>\n",
       "      <td>31.0</td>\n",
       "      <td>basic</td>\n",
       "      <td>other</td>\n",
       "      <td>craigslist</td>\n",
       "      <td>untracked</td>\n",
       "      <td>Web</td>\n",
       "      <td>-unknown-</td>\n",
       "      <td>US</td>\n",
       "    </tr>\n",
       "  </tbody>\n",
       "</table>\n",
       "</div>"
      ],
      "text/plain": [
       "       gender   age signup_method affiliate_channel affiliate_provider  \\\n",
       "3      FEMALE  42.0      facebook            direct             direct   \n",
       "6      FEMALE  46.0         basic             other         craigslist   \n",
       "8      FEMALE  50.0         basic             other         craigslist   \n",
       "10     FEMALE  36.0         basic             other         craigslist   \n",
       "17  -unknown-  31.0         basic             other         craigslist   \n",
       "\n",
       "   first_affiliate_tracked signup_app first_browser country_destination  \n",
       "3                untracked        Web       Firefox               other  \n",
       "6                untracked        Web        Safari                  US  \n",
       "8                untracked        Web        Safari                  US  \n",
       "10               untracked        Web       Firefox                  US  \n",
       "17               untracked        Web     -unknown-                  US  "
      ]
     },
     "execution_count": 64,
     "metadata": {},
     "output_type": "execute_result"
    }
   ],
   "source": [
    "mod.head()"
   ]
  },
  {
   "cell_type": "code",
   "execution_count": 65,
   "id": "48bfcf10",
   "metadata": {},
   "outputs": [
    {
     "name": "stdout",
     "output_type": "stream",
     "text": [
      "['other' 'US' 'FR' 'ES' 'IT' 'CA' 'GB' 'NL' 'DE' 'AU' 'PT']\n"
     ]
    },
    {
     "data": {
      "text/html": [
       "<style>#sk-container-id-2 {color: black;background-color: white;}#sk-container-id-2 pre{padding: 0;}#sk-container-id-2 div.sk-toggleable {background-color: white;}#sk-container-id-2 label.sk-toggleable__label {cursor: pointer;display: block;width: 100%;margin-bottom: 0;padding: 0.3em;box-sizing: border-box;text-align: center;}#sk-container-id-2 label.sk-toggleable__label-arrow:before {content: \"▸\";float: left;margin-right: 0.25em;color: #696969;}#sk-container-id-2 label.sk-toggleable__label-arrow:hover:before {color: black;}#sk-container-id-2 div.sk-estimator:hover label.sk-toggleable__label-arrow:before {color: black;}#sk-container-id-2 div.sk-toggleable__content {max-height: 0;max-width: 0;overflow: hidden;text-align: left;background-color: #f0f8ff;}#sk-container-id-2 div.sk-toggleable__content pre {margin: 0.2em;color: black;border-radius: 0.25em;background-color: #f0f8ff;}#sk-container-id-2 input.sk-toggleable__control:checked~div.sk-toggleable__content {max-height: 200px;max-width: 100%;overflow: auto;}#sk-container-id-2 input.sk-toggleable__control:checked~label.sk-toggleable__label-arrow:before {content: \"▾\";}#sk-container-id-2 div.sk-estimator input.sk-toggleable__control:checked~label.sk-toggleable__label {background-color: #d4ebff;}#sk-container-id-2 div.sk-label input.sk-toggleable__control:checked~label.sk-toggleable__label {background-color: #d4ebff;}#sk-container-id-2 input.sk-hidden--visually {border: 0;clip: rect(1px 1px 1px 1px);clip: rect(1px, 1px, 1px, 1px);height: 1px;margin: -1px;overflow: hidden;padding: 0;position: absolute;width: 1px;}#sk-container-id-2 div.sk-estimator {font-family: monospace;background-color: #f0f8ff;border: 1px dotted black;border-radius: 0.25em;box-sizing: border-box;margin-bottom: 0.5em;}#sk-container-id-2 div.sk-estimator:hover {background-color: #d4ebff;}#sk-container-id-2 div.sk-parallel-item::after {content: \"\";width: 100%;border-bottom: 1px solid gray;flex-grow: 1;}#sk-container-id-2 div.sk-label:hover label.sk-toggleable__label {background-color: #d4ebff;}#sk-container-id-2 div.sk-serial::before {content: \"\";position: absolute;border-left: 1px solid gray;box-sizing: border-box;top: 0;bottom: 0;left: 50%;z-index: 0;}#sk-container-id-2 div.sk-serial {display: flex;flex-direction: column;align-items: center;background-color: white;padding-right: 0.2em;padding-left: 0.2em;position: relative;}#sk-container-id-2 div.sk-item {position: relative;z-index: 1;}#sk-container-id-2 div.sk-parallel {display: flex;align-items: stretch;justify-content: center;background-color: white;position: relative;}#sk-container-id-2 div.sk-item::before, #sk-container-id-2 div.sk-parallel-item::before {content: \"\";position: absolute;border-left: 1px solid gray;box-sizing: border-box;top: 0;bottom: 0;left: 50%;z-index: -1;}#sk-container-id-2 div.sk-parallel-item {display: flex;flex-direction: column;z-index: 1;position: relative;background-color: white;}#sk-container-id-2 div.sk-parallel-item:first-child::after {align-self: flex-end;width: 50%;}#sk-container-id-2 div.sk-parallel-item:last-child::after {align-self: flex-start;width: 50%;}#sk-container-id-2 div.sk-parallel-item:only-child::after {width: 0;}#sk-container-id-2 div.sk-dashed-wrapped {border: 1px dashed gray;margin: 0 0.4em 0.5em 0.4em;box-sizing: border-box;padding-bottom: 0.4em;background-color: white;}#sk-container-id-2 div.sk-label label {font-family: monospace;font-weight: bold;display: inline-block;line-height: 1.2em;}#sk-container-id-2 div.sk-label-container {text-align: center;}#sk-container-id-2 div.sk-container {/* jupyter's `normalize.less` sets `[hidden] { display: none; }` but bootstrap.min.css set `[hidden] { display: none !important; }` so we also need the `!important` here to be able to override the default hidden behavior on the sphinx rendered scikit-learn.org. See: https://github.com/scikit-learn/scikit-learn/issues/21755 */display: inline-block !important;position: relative;}#sk-container-id-2 div.sk-text-repr-fallback {display: none;}</style><div id=\"sk-container-id-2\" class=\"sk-top-container\"><div class=\"sk-text-repr-fallback\"><pre>KNeighborsClassifier(n_neighbors=12)</pre><b>In a Jupyter environment, please rerun this cell to show the HTML representation or trust the notebook. <br />On GitHub, the HTML representation is unable to render, please try loading this page with nbviewer.org.</b></div><div class=\"sk-container\" hidden><div class=\"sk-item\"><div class=\"sk-estimator sk-toggleable\"><input class=\"sk-toggleable__control sk-hidden--visually\" id=\"sk-estimator-id-2\" type=\"checkbox\" checked><label for=\"sk-estimator-id-2\" class=\"sk-toggleable__label sk-toggleable__label-arrow\">KNeighborsClassifier</label><div class=\"sk-toggleable__content\"><pre>KNeighborsClassifier(n_neighbors=12)</pre></div></div></div></div></div>"
      ],
      "text/plain": [
       "KNeighborsClassifier(n_neighbors=12)"
      ]
     },
     "execution_count": 65,
     "metadata": {},
     "output_type": "execute_result"
    }
   ],
   "source": [
    "xmod = mod.drop(['country_destination'],axis = 1)\n",
    "xmod.fillna(-1)\n",
    "\n",
    "#Encoding data manulally :-\n",
    "xmod['gender'] = xmod['gender'].replace(xmod['gender'].unique(),np.arange(0,len(xmod['gender'].unique())))\n",
    "xmod['signup_method'] = xmod['signup_method'].replace(xmod['signup_method'].unique(),np.arange(0,len(xmod['signup_method'].unique())))\n",
    "xmod['affiliate_channel'] = xmod['affiliate_channel'].replace(xmod['affiliate_channel'].unique(),np.arange(0,len(xmod['affiliate_channel'].unique())))\n",
    "xmod['affiliate_provider'] = xmod['affiliate_provider'].replace(xmod['affiliate_provider'].unique(),np.arange(0,len(xmod['affiliate_provider'].unique())))\n",
    "xmod['first_affiliate_tracked'] = xmod['first_affiliate_tracked'].replace(xmod['first_affiliate_tracked'].unique(),np.arange(0,len(xmod['first_affiliate_tracked'].unique())))\n",
    "xmod['signup_app'] = xmod['signup_app'].replace(xmod['signup_app'].unique(),np.arange(0,len(xmod['signup_app'].unique())))\n",
    "xmod['first_browser'] = xmod['first_browser'].replace(xmod['first_browser'].unique(),np.arange(0,len(xmod['first_browser'].unique())))\n",
    "\n",
    "ymod = mod['country_destination']\n",
    "myymod = ymod.unique()\n",
    "print(myymod)\n",
    "ymod =ymod.replace(ymod.unique(),np.arange(0,len(ymod.unique())))\n",
    "ymod\n",
    "\n",
    "# now splitting our data into test and train treain_test_split :\n",
    "xmod_train, xmod_test, ymod_train, ymod_test =  train_test_split(xmod,ymod,test_size = 0.2,random_state =10) \n",
    "#we here use 'random _state = 10' so that the result of splitting isnot changed each time we run the cell :)\n",
    "\n",
    "knmod = KNeighborsClassifier(n_neighbors = 12,p = 2,leaf_size = 30)\n",
    "knmod.fit(xmod_train,ymod_train)"
   ]
  },
  {
   "cell_type": "code",
   "execution_count": 66,
   "id": "408bc94f",
   "metadata": {},
   "outputs": [
    {
     "data": {
      "text/plain": [
       "0.7067074725835246"
      ]
     },
     "execution_count": 66,
     "metadata": {},
     "output_type": "execute_result"
    }
   ],
   "source": [
    "knmod.score(xmod_test,ymod_test)"
   ]
  },
  {
   "cell_type": "markdown",
   "id": "73bf66d9",
   "metadata": {},
   "source": [
    "This is what I am talking about :):)"
   ]
  },
  {
   "cell_type": "code",
   "execution_count": 67,
   "id": "a1634518",
   "metadata": {},
   "outputs": [
    {
     "data": {
      "text/plain": [
       "array([1, 1, 1, ..., 1, 1, 1], dtype=int64)"
      ]
     },
     "execution_count": 67,
     "metadata": {},
     "output_type": "execute_result"
    }
   ],
   "source": [
    "ymod_pred = knmod.predict(xmod_test)\n",
    "ymod_pred"
   ]
  },
  {
   "cell_type": "code",
   "execution_count": 68,
   "id": "57c7dfa1",
   "metadata": {},
   "outputs": [
    {
     "data": {
      "text/plain": [
       "array([0, 1, 2, 4, 5], dtype=int64)"
      ]
     },
     "execution_count": 68,
     "metadata": {},
     "output_type": "execute_result"
    }
   ],
   "source": [
    "np.unique(ymod_pred)"
   ]
  },
  {
   "cell_type": "code",
   "execution_count": 69,
   "id": "7d2ac597",
   "metadata": {},
   "outputs": [
    {
     "data": {
      "text/plain": [
       "US       11699\n",
       "other       60\n",
       "FR           2\n",
       "CA           1\n",
       "IT           1\n",
       "dtype: int64"
      ]
     },
     "execution_count": 69,
     "metadata": {},
     "output_type": "execute_result"
    }
   ],
   "source": [
    "ymod_pred = pd.DataFrame(data = ymod_pred,index = np.arange(len(ymod_pred)))\n",
    "\n",
    "ymod_pred =ymod_pred.replace(np.arange(0,len(myymod)),myymod)\n",
    "ymod_pred.value_counts()"
   ]
  },
  {
   "cell_type": "code",
   "execution_count": 70,
   "id": "32fb4e23",
   "metadata": {
    "scrolled": false
   },
   "outputs": [],
   "source": [
    "# from sklearn.metrics import classification_report, confusion_matrix, accuracy_score\n",
    "# result = confusion_matrix(ymod_test, ymod_pred)\n",
    "# print('Confusion Matrix:')#influence of each feature on each countrydist\n",
    "# print(result)"
   ]
  },
  {
   "cell_type": "markdown",
   "id": "2aac0f69",
   "metadata": {},
   "source": [
    "<a id='random'></a>"
   ]
  },
  {
   "cell_type": "markdown",
   "id": "b1839d34",
   "metadata": {},
   "source": [
    "## Here is another Solution using the random forest algorithm :"
   ]
  },
  {
   "cell_type": "code",
   "execution_count": 71,
   "id": "aece44c0",
   "metadata": {},
   "outputs": [],
   "source": [
    "from sklearn.model_selection import train_test_split\n",
    "from sklearn.preprocessing import StandardScaler\n",
    "from sklearn.ensemble import RandomForestClassifier\n",
    "from sklearn.metrics import confusion_matrix\n",
    "from imblearn.ensemble import BalancedRandomForestClassifier\n",
    "users = pd.read_csv('train_users_2.csv',usecols=['date_account_created','age','gender','country_destination','affiliate_provider','first_device_type'])\n",
    "users = users[users['date_account_created'].notna()]\n",
    "users.drop(users[users['country_destination'] == 'NDF'].index, inplace = True)"
   ]
  },
  {
   "cell_type": "code",
   "execution_count": 72,
   "id": "c61d87e4",
   "metadata": {},
   "outputs": [],
   "source": [
    "user_with_year_age_mask = users['age'] > 1000\n",
    "users.loc[user_with_year_age_mask, 'age'] = 2015 - users.loc[user_with_year_age_mask, 'age']\n",
    "\n",
    "users.loc[(users['age'] > 100) | (users['age'] < 18), 'age'] = np.nan\n",
    "users['age']= users['age'].fillna(users['age'].mean())\n",
    "\n",
    "users['date_account_created'] = pd.to_datetime(users['date_account_created'], errors='ignore')\n",
    "\n",
    "date_account_created = pd.DatetimeIndex(users['date_account_created'])\n",
    "\n"
   ]
  },
  {
   "cell_type": "code",
   "execution_count": 73,
   "id": "fcff4f7f",
   "metadata": {},
   "outputs": [],
   "source": [
    "users['day_account_created'] = date_account_created.day\n",
    "users['weekday_account_created'] = date_account_created.weekday\n",
    "users['week_account_created'] = date_account_created.week\n",
    "users['month_account_created'] = date_account_created.month\n",
    "users['year_account_created'] = date_account_created.year"
   ]
  },
  {
   "cell_type": "code",
   "execution_count": 74,
   "id": "a8607d88",
   "metadata": {},
   "outputs": [],
   "source": [
    "users.drop([\n",
    "    'date_account_created'\n",
    "], axis=1, inplace=True)\n"
   ]
  },
  {
   "cell_type": "code",
   "execution_count": 76,
   "id": "17483fb3",
   "metadata": {},
   "outputs": [
    {
     "data": {
      "text/html": [
       "<div>\n",
       "<style scoped>\n",
       "    .dataframe tbody tr th:only-of-type {\n",
       "        vertical-align: middle;\n",
       "    }\n",
       "\n",
       "    .dataframe tbody tr th {\n",
       "        vertical-align: top;\n",
       "    }\n",
       "\n",
       "    .dataframe thead th {\n",
       "        text-align: right;\n",
       "    }\n",
       "</style>\n",
       "<table border=\"1\" class=\"dataframe\">\n",
       "  <thead>\n",
       "    <tr style=\"text-align: right;\">\n",
       "      <th></th>\n",
       "      <th>gender</th>\n",
       "      <th>age</th>\n",
       "      <th>affiliate_provider</th>\n",
       "      <th>first_device_type</th>\n",
       "      <th>country_destination</th>\n",
       "      <th>day_account_created</th>\n",
       "      <th>weekday_account_created</th>\n",
       "      <th>week_account_created</th>\n",
       "      <th>month_account_created</th>\n",
       "      <th>year_account_created</th>\n",
       "    </tr>\n",
       "  </thead>\n",
       "  <tbody>\n",
       "    <tr>\n",
       "      <th>2</th>\n",
       "      <td>FEMALE</td>\n",
       "      <td>56.000000</td>\n",
       "      <td>direct</td>\n",
       "      <td>Windows Desktop</td>\n",
       "      <td>0</td>\n",
       "      <td>28</td>\n",
       "      <td>1</td>\n",
       "      <td>39</td>\n",
       "      <td>9</td>\n",
       "      <td>2010</td>\n",
       "    </tr>\n",
       "    <tr>\n",
       "      <th>3</th>\n",
       "      <td>FEMALE</td>\n",
       "      <td>42.000000</td>\n",
       "      <td>direct</td>\n",
       "      <td>Mac Desktop</td>\n",
       "      <td>1</td>\n",
       "      <td>5</td>\n",
       "      <td>0</td>\n",
       "      <td>49</td>\n",
       "      <td>12</td>\n",
       "      <td>2011</td>\n",
       "    </tr>\n",
       "    <tr>\n",
       "      <th>4</th>\n",
       "      <td>-unknown-</td>\n",
       "      <td>41.000000</td>\n",
       "      <td>direct</td>\n",
       "      <td>Mac Desktop</td>\n",
       "      <td>0</td>\n",
       "      <td>14</td>\n",
       "      <td>1</td>\n",
       "      <td>37</td>\n",
       "      <td>9</td>\n",
       "      <td>2010</td>\n",
       "    </tr>\n",
       "    <tr>\n",
       "      <th>5</th>\n",
       "      <td>-unknown-</td>\n",
       "      <td>36.160792</td>\n",
       "      <td>other</td>\n",
       "      <td>Mac Desktop</td>\n",
       "      <td>0</td>\n",
       "      <td>1</td>\n",
       "      <td>4</td>\n",
       "      <td>53</td>\n",
       "      <td>1</td>\n",
       "      <td>2010</td>\n",
       "    </tr>\n",
       "    <tr>\n",
       "      <th>6</th>\n",
       "      <td>FEMALE</td>\n",
       "      <td>46.000000</td>\n",
       "      <td>craigslist</td>\n",
       "      <td>Mac Desktop</td>\n",
       "      <td>0</td>\n",
       "      <td>2</td>\n",
       "      <td>5</td>\n",
       "      <td>53</td>\n",
       "      <td>1</td>\n",
       "      <td>2010</td>\n",
       "    </tr>\n",
       "  </tbody>\n",
       "</table>\n",
       "</div>"
      ],
      "text/plain": [
       "      gender        age affiliate_provider first_device_type  \\\n",
       "2     FEMALE  56.000000             direct   Windows Desktop   \n",
       "3     FEMALE  42.000000             direct       Mac Desktop   \n",
       "4  -unknown-  41.000000             direct       Mac Desktop   \n",
       "5  -unknown-  36.160792              other       Mac Desktop   \n",
       "6     FEMALE  46.000000         craigslist       Mac Desktop   \n",
       "\n",
       "   country_destination  day_account_created  weekday_account_created  \\\n",
       "2                    0                   28                        1   \n",
       "3                    1                    5                        0   \n",
       "4                    0                   14                        1   \n",
       "5                    0                    1                        4   \n",
       "6                    0                    2                        5   \n",
       "\n",
       "   week_account_created  month_account_created  year_account_created  \n",
       "2                    39                      9                  2010  \n",
       "3                    49                     12                  2011  \n",
       "4                    37                      9                  2010  \n",
       "5                    53                      1                  2010  \n",
       "6                    53                      1                  2010  "
      ]
     },
     "execution_count": 76,
     "metadata": {},
     "output_type": "execute_result"
    }
   ],
   "source": [
    "factor = pd.factorize(users['country_destination'])\n",
    "users.country_destination = factor[0]\n",
    "definitions = factor[1]\n",
    "users.head()"
   ]
  },
  {
   "cell_type": "code",
   "execution_count": 77,
   "id": "cc3fbff1",
   "metadata": {},
   "outputs": [
    {
     "data": {
      "text/html": [
       "<div>\n",
       "<style scoped>\n",
       "    .dataframe tbody tr th:only-of-type {\n",
       "        vertical-align: middle;\n",
       "    }\n",
       "\n",
       "    .dataframe tbody tr th {\n",
       "        vertical-align: top;\n",
       "    }\n",
       "\n",
       "    .dataframe thead th {\n",
       "        text-align: right;\n",
       "    }\n",
       "</style>\n",
       "<table border=\"1\" class=\"dataframe\">\n",
       "  <thead>\n",
       "    <tr style=\"text-align: right;\">\n",
       "      <th></th>\n",
       "      <th>age</th>\n",
       "      <th>country_destination</th>\n",
       "      <th>day_account_created</th>\n",
       "      <th>weekday_account_created</th>\n",
       "      <th>week_account_created</th>\n",
       "      <th>month_account_created</th>\n",
       "      <th>year_account_created</th>\n",
       "      <th>gender_-unknown-</th>\n",
       "      <th>gender_FEMALE</th>\n",
       "      <th>gender_MALE</th>\n",
       "      <th>...</th>\n",
       "      <th>affiliate_provider_yandex</th>\n",
       "      <th>first_device_type_Android Phone</th>\n",
       "      <th>first_device_type_Android Tablet</th>\n",
       "      <th>first_device_type_Desktop (Other)</th>\n",
       "      <th>first_device_type_Mac Desktop</th>\n",
       "      <th>first_device_type_Other/Unknown</th>\n",
       "      <th>first_device_type_SmartPhone (Other)</th>\n",
       "      <th>first_device_type_Windows Desktop</th>\n",
       "      <th>first_device_type_iPad</th>\n",
       "      <th>first_device_type_iPhone</th>\n",
       "    </tr>\n",
       "  </thead>\n",
       "  <tbody>\n",
       "    <tr>\n",
       "      <th>2</th>\n",
       "      <td>56.000000</td>\n",
       "      <td>0</td>\n",
       "      <td>28</td>\n",
       "      <td>1</td>\n",
       "      <td>39</td>\n",
       "      <td>9</td>\n",
       "      <td>2010</td>\n",
       "      <td>0</td>\n",
       "      <td>1</td>\n",
       "      <td>0</td>\n",
       "      <td>...</td>\n",
       "      <td>0</td>\n",
       "      <td>0</td>\n",
       "      <td>0</td>\n",
       "      <td>0</td>\n",
       "      <td>0</td>\n",
       "      <td>0</td>\n",
       "      <td>0</td>\n",
       "      <td>1</td>\n",
       "      <td>0</td>\n",
       "      <td>0</td>\n",
       "    </tr>\n",
       "    <tr>\n",
       "      <th>3</th>\n",
       "      <td>42.000000</td>\n",
       "      <td>1</td>\n",
       "      <td>5</td>\n",
       "      <td>0</td>\n",
       "      <td>49</td>\n",
       "      <td>12</td>\n",
       "      <td>2011</td>\n",
       "      <td>0</td>\n",
       "      <td>1</td>\n",
       "      <td>0</td>\n",
       "      <td>...</td>\n",
       "      <td>0</td>\n",
       "      <td>0</td>\n",
       "      <td>0</td>\n",
       "      <td>0</td>\n",
       "      <td>1</td>\n",
       "      <td>0</td>\n",
       "      <td>0</td>\n",
       "      <td>0</td>\n",
       "      <td>0</td>\n",
       "      <td>0</td>\n",
       "    </tr>\n",
       "    <tr>\n",
       "      <th>4</th>\n",
       "      <td>41.000000</td>\n",
       "      <td>0</td>\n",
       "      <td>14</td>\n",
       "      <td>1</td>\n",
       "      <td>37</td>\n",
       "      <td>9</td>\n",
       "      <td>2010</td>\n",
       "      <td>1</td>\n",
       "      <td>0</td>\n",
       "      <td>0</td>\n",
       "      <td>...</td>\n",
       "      <td>0</td>\n",
       "      <td>0</td>\n",
       "      <td>0</td>\n",
       "      <td>0</td>\n",
       "      <td>1</td>\n",
       "      <td>0</td>\n",
       "      <td>0</td>\n",
       "      <td>0</td>\n",
       "      <td>0</td>\n",
       "      <td>0</td>\n",
       "    </tr>\n",
       "    <tr>\n",
       "      <th>5</th>\n",
       "      <td>36.160792</td>\n",
       "      <td>0</td>\n",
       "      <td>1</td>\n",
       "      <td>4</td>\n",
       "      <td>53</td>\n",
       "      <td>1</td>\n",
       "      <td>2010</td>\n",
       "      <td>1</td>\n",
       "      <td>0</td>\n",
       "      <td>0</td>\n",
       "      <td>...</td>\n",
       "      <td>0</td>\n",
       "      <td>0</td>\n",
       "      <td>0</td>\n",
       "      <td>0</td>\n",
       "      <td>1</td>\n",
       "      <td>0</td>\n",
       "      <td>0</td>\n",
       "      <td>0</td>\n",
       "      <td>0</td>\n",
       "      <td>0</td>\n",
       "    </tr>\n",
       "    <tr>\n",
       "      <th>6</th>\n",
       "      <td>46.000000</td>\n",
       "      <td>0</td>\n",
       "      <td>2</td>\n",
       "      <td>5</td>\n",
       "      <td>53</td>\n",
       "      <td>1</td>\n",
       "      <td>2010</td>\n",
       "      <td>0</td>\n",
       "      <td>1</td>\n",
       "      <td>0</td>\n",
       "      <td>...</td>\n",
       "      <td>0</td>\n",
       "      <td>0</td>\n",
       "      <td>0</td>\n",
       "      <td>0</td>\n",
       "      <td>1</td>\n",
       "      <td>0</td>\n",
       "      <td>0</td>\n",
       "      <td>0</td>\n",
       "      <td>0</td>\n",
       "      <td>0</td>\n",
       "    </tr>\n",
       "  </tbody>\n",
       "</table>\n",
       "<p>5 rows × 37 columns</p>\n",
       "</div>"
      ],
      "text/plain": [
       "         age  country_destination  day_account_created  \\\n",
       "2  56.000000                    0                   28   \n",
       "3  42.000000                    1                    5   \n",
       "4  41.000000                    0                   14   \n",
       "5  36.160792                    0                    1   \n",
       "6  46.000000                    0                    2   \n",
       "\n",
       "   weekday_account_created  week_account_created  month_account_created  \\\n",
       "2                        1                    39                      9   \n",
       "3                        0                    49                     12   \n",
       "4                        1                    37                      9   \n",
       "5                        4                    53                      1   \n",
       "6                        5                    53                      1   \n",
       "\n",
       "   year_account_created  gender_-unknown-  gender_FEMALE  gender_MALE  ...  \\\n",
       "2                  2010                 0              1            0  ...   \n",
       "3                  2011                 0              1            0  ...   \n",
       "4                  2010                 1              0            0  ...   \n",
       "5                  2010                 1              0            0  ...   \n",
       "6                  2010                 0              1            0  ...   \n",
       "\n",
       "   affiliate_provider_yandex  first_device_type_Android Phone  \\\n",
       "2                          0                                0   \n",
       "3                          0                                0   \n",
       "4                          0                                0   \n",
       "5                          0                                0   \n",
       "6                          0                                0   \n",
       "\n",
       "   first_device_type_Android Tablet  first_device_type_Desktop (Other)  \\\n",
       "2                                 0                                  0   \n",
       "3                                 0                                  0   \n",
       "4                                 0                                  0   \n",
       "5                                 0                                  0   \n",
       "6                                 0                                  0   \n",
       "\n",
       "   first_device_type_Mac Desktop  first_device_type_Other/Unknown  \\\n",
       "2                              0                                0   \n",
       "3                              1                                0   \n",
       "4                              1                                0   \n",
       "5                              1                                0   \n",
       "6                              1                                0   \n",
       "\n",
       "   first_device_type_SmartPhone (Other)  first_device_type_Windows Desktop  \\\n",
       "2                                     0                                  1   \n",
       "3                                     0                                  0   \n",
       "4                                     0                                  0   \n",
       "5                                     0                                  0   \n",
       "6                                     0                                  0   \n",
       "\n",
       "   first_device_type_iPad  first_device_type_iPhone  \n",
       "2                       0                         0  \n",
       "3                       0                         0  \n",
       "4                       0                         0  \n",
       "5                       0                         0  \n",
       "6                       0                         0  \n",
       "\n",
       "[5 rows x 37 columns]"
      ]
     },
     "execution_count": 77,
     "metadata": {},
     "output_type": "execute_result"
    }
   ],
   "source": [
    "for col in users.dtypes[users.dtypes == 'object'].index:\n",
    "    for_dummy = users.pop(col)\n",
    "    users = pd.concat([users,pd.get_dummies(for_dummy,prefix=col)],axis = 1)\n",
    "users.head(5)"
   ]
  },
  {
   "cell_type": "code",
   "execution_count": 78,
   "id": "291e1368",
   "metadata": {},
   "outputs": [
    {
     "name": "stdout",
     "output_type": "stream",
     "text": [
      "Mean Absolute Error: 1.3435911279075\n",
      "Mean Squared Error: 6.964502631934134\n",
      "Root Mean Squared Error: 2.6390344127983885\n",
      "Predicted Country Destination     0    1    2    3    4    5    6   7    8   \\\n",
      "Actual Country Destination                                                    \n",
      "0                              12901  960  485  190  274  242  358  40  103   \n",
      "1                               1982  182   76   28   49   65   49  10   17   \n",
      "2                                928   92   42   18   19   21   35   3    7   \n",
      "3                                275   26    9    1   11    3    9   2    2   \n",
      "4                                447   31   28   10   11   15   11   1    4   \n",
      "5                                447   48   31    7   11    6   21   1    2   \n",
      "6                                570   48   22   10    8   15   16   1    6   \n",
      "7                                 45    3    3    4    2    3    2   0    1   \n",
      "8                                166   13    6    1    2    2    5   1    1   \n",
      "9                                216   16   12    2    4    5    8   0    1   \n",
      "10                                99    9    4    1    3    1    1   0    0   \n",
      "\n",
      "Predicted Country Destination  9   10  \n",
      "Actual Country Destination             \n",
      "0                              95  57  \n",
      "1                              22  12  \n",
      "2                              16   9  \n",
      "3                               2   0  \n",
      "4                               5   3  \n",
      "5                               1   3  \n",
      "6                               6   7  \n",
      "7                               0   0  \n",
      "8                               0   1  \n",
      "9                               2   0  \n",
      "10                              1   1  \n",
      "Accuracy score:  0.5922076753497998\n"
     ]
    }
   ],
   "source": [
    "labels = users.pop('country_destination')\n",
    "\n",
    "from sklearn.model_selection import train_test_split\n",
    "x_train, x_test, y_train, y_test = train_test_split(users, labels, test_size=0.25, random_state = 21)\n",
    "\n",
    "classifier = RandomForestClassifier(n_estimators = 16, criterion = 'entropy', random_state = 42,class_weight='balanced')\n",
    "classifier.fit(x_train, y_train)\n",
    "\n",
    "# Predicting the Test set results\n",
    "y_pred = classifier.predict(x_test)\n",
    "from sklearn import metrics\n",
    "print('Mean Absolute Error:', metrics.mean_absolute_error(y_test, y_pred))\n",
    "print('Mean Squared Error:', metrics.mean_squared_error(y_test, y_pred))\n",
    "print('Root Mean Squared Error:', np.sqrt(metrics.mean_squared_error(y_test, y_pred)))\n",
    "reversefactor = dict(zip(range(12),definitions))\n",
    "y_test = np.vectorize(reversefactor.get)(y_test)\n",
    "y_pred = np.vectorize(reversefactor.get)(y_pred)\n",
    "# Making the Confusion Matrix\n",
    "print(pd.crosstab(y_test, y_pred, rownames=['Actual Country Destination'], colnames=['Predicted Country Destination']))\n",
    "print('Accuracy score: ',metrics.accuracy_score(y_test, y_pred))\n"
   ]
  }
 ],
 "metadata": {
  "kernelspec": {
   "display_name": "Python 3",
   "language": "python",
   "name": "python3"
  },
  "language_info": {
   "codemirror_mode": {
    "name": "ipython",
    "version": 3
   },
   "file_extension": ".py",
   "mimetype": "text/x-python",
   "name": "python",
   "nbconvert_exporter": "python",
   "pygments_lexer": "ipython3",
   "version": "3.8.8"
  }
 },
 "nbformat": 4,
 "nbformat_minor": 5
}
